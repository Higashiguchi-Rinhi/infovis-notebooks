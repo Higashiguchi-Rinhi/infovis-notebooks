{
 "cells": [
  {
   "cell_type": "markdown",
   "metadata": {},
   "source": [
    "# 最終課題\n",
    "\n",
    "最終発表：10分程度／人（発表5分、ディスカッション5分）\n",
    "発表資料：A4数枚に以下の内容をまとめ、発表後に提出してください\n",
    "答えたい問い\n",
    "データの概要、取得と前処理の方法\n",
    "データ変数と視覚変数の対応関係\n",
    "可視化作品と考察\n",
    "コードかコードへのリンク（あれば）\n"
   ]
  },
  {
   "cell_type": "markdown",
   "metadata": {},
   "source": [
    "## 第10回\n",
    "どのような主題にするか？\\\n",
    "・クラシック音楽\n",
    "\n",
    "どこでデータを入手するか？\\\n",
    "・オープンデータを使う\n",
    "\n",
    "どのような問いを設定する？\\\n",
    "・音自体がどこに行くのか、1,2,5音とか\n",
    "・有名な作曲家の国籍と曲の長さの関係に興味があります\\\n",
    "・流派や時代が曲の長さに影響するかもしれないと考える\n",
    "・"
   ]
  },
  {
   "cell_type": "markdown",
   "metadata": {},
   "source": [
    "### データセット\n",
    "\n",
    "https://www.kaggle.com/datasets/tarunrm09/top-classical-composers?resource=download\n",
    "から取得\n",
    "\n",
    "This dataset contains a comprehensive list of the most famous classical composers. The dataset provides insights into the composers details such as their best piece and the duration of that piece. The dataset includes information such as composers name, nationality, birth year, death year , their most famous works, and the duration of their famous piece."
   ]
  },
  {
   "cell_type": "code",
   "execution_count": 9,
   "metadata": {},
   "outputs": [
    {
     "name": "stdout",
     "output_type": "stream",
     "text": [
      "Collecting altair\n",
      "  Downloading altair-5.5.0-py3-none-any.whl (731 kB)\n",
      "     -------------------------------------- 731.2/731.2 KB 6.6 MB/s eta 0:00:00\n",
      "Requirement already satisfied: typing-extensions>=4.10.0 in c:\\users\\tanri\\infovis\\infovis-notebooks\\.venv\\lib\\site-packages (from altair) (4.12.2)\n",
      "Collecting jsonschema>=3.0\n",
      "  Using cached jsonschema-4.23.0-py3-none-any.whl (88 kB)\n",
      "Requirement already satisfied: packaging in c:\\users\\tanri\\infovis\\infovis-notebooks\\.venv\\lib\\site-packages (from altair) (24.2)\n",
      "Requirement already satisfied: jinja2 in c:\\users\\tanri\\infovis\\infovis-notebooks\\.venv\\lib\\site-packages (from altair) (3.1.4)\n",
      "Collecting narwhals>=1.14.2\n",
      "  Downloading narwhals-1.19.1-py3-none-any.whl (260 kB)\n",
      "     ------------------------------------- 260.6/260.6 KB 16.7 MB/s eta 0:00:00\n",
      "Collecting attrs>=22.2.0\n",
      "  Downloading attrs-24.3.0-py3-none-any.whl (63 kB)\n",
      "     ---------------------------------------- 63.4/63.4 KB 3.5 MB/s eta 0:00:00\n",
      "Collecting referencing>=0.28.4\n",
      "  Using cached referencing-0.35.1-py3-none-any.whl (26 kB)\n",
      "Collecting jsonschema-specifications>=2023.03.6\n",
      "  Using cached jsonschema_specifications-2024.10.1-py3-none-any.whl (18 kB)\n",
      "Collecting rpds-py>=0.7.1\n",
      "  Downloading rpds_py-0.22.3-cp310-cp310-win_amd64.whl (231 kB)\n",
      "     ------------------------------------- 231.7/231.7 KB 13.8 MB/s eta 0:00:00\n",
      "Requirement already satisfied: MarkupSafe>=2.0 in c:\\users\\tanri\\infovis\\infovis-notebooks\\.venv\\lib\\site-packages (from jinja2->altair) (3.0.2)\n",
      "Installing collected packages: rpds-py, narwhals, attrs, referencing, jsonschema-specifications, jsonschema, altair\n",
      "Successfully installed altair-5.5.0 attrs-24.3.0 jsonschema-4.23.0 jsonschema-specifications-2024.10.1 narwhals-1.19.1 referencing-0.35.1 rpds-py-0.22.3\n"
     ]
    },
    {
     "name": "stderr",
     "output_type": "stream",
     "text": [
      "WARNING: You are using pip version 22.0.4; however, version 24.3.1 is available.\n",
      "You should consider upgrading via the 'C:\\Users\\tanri\\infovis\\infovis-notebooks\\.venv\\Scripts\\python.exe -m pip install --upgrade pip' command.\n"
     ]
    }
   ],
   "source": [
    "# !pip install plotly\n",
    "# !pip install pandas\n",
    "!pip install altair\n"
   ]
  },
  {
   "cell_type": "code",
   "execution_count": 23,
   "metadata": {},
   "outputs": [
    {
     "name": "stdout",
     "output_type": "stream",
     "text": [
      "Collecting matplotlib\n",
      "  Downloading matplotlib-3.10.0-cp310-cp310-win_amd64.whl (8.0 MB)\n",
      "     ---------------------------------------- 8.0/8.0 MB 17.7 MB/s eta 0:00:00\n",
      "Collecting fonttools>=4.22.0\n",
      "  Downloading fonttools-4.55.3-cp310-cp310-win_amd64.whl (2.2 MB)\n",
      "     ---------------------------------------- 2.2/2.2 MB 28.3 MB/s eta 0:00:00\n",
      "Collecting numpy>=1.23\n",
      "  Using cached numpy-2.2.1-cp310-cp310-win_amd64.whl (12.9 MB)\n",
      "Collecting cycler>=0.10\n",
      "  Using cached cycler-0.12.1-py3-none-any.whl (8.3 kB)\n",
      "Requirement already satisfied: python-dateutil>=2.7 in c:\\users\\tanri\\.pyenv\\pyenv-win\\versions\\3.10.5\\lib\\site-packages (from matplotlib) (2.9.0.post0)\n",
      "Collecting pillow>=8\n",
      "  Downloading pillow-11.1.0-cp310-cp310-win_amd64.whl (2.6 MB)\n",
      "     ---------------------------------------- 2.6/2.6 MB 11.1 MB/s eta 0:00:00\n",
      "Collecting kiwisolver>=1.3.1\n",
      "  Downloading kiwisolver-1.4.8-cp310-cp310-win_amd64.whl (71 kB)\n",
      "     ---------------------------------------- 71.9/71.9 KB 3.9 MB/s eta 0:00:00\n",
      "Requirement already satisfied: packaging>=20.0 in c:\\users\\tanri\\.pyenv\\pyenv-win\\versions\\3.10.5\\lib\\site-packages (from matplotlib) (24.2)\n",
      "Collecting contourpy>=1.0.1\n",
      "  Downloading contourpy-1.3.1-cp310-cp310-win_amd64.whl (218 kB)\n",
      "     -------------------------------------- 218.6/218.6 KB 1.1 MB/s eta 0:00:00\n",
      "Collecting pyparsing>=2.3.1\n",
      "  Downloading pyparsing-3.2.1-py3-none-any.whl (107 kB)\n",
      "     -------------------------------------- 107.7/107.7 KB 6.1 MB/s eta 0:00:00\n",
      "Requirement already satisfied: six>=1.5 in c:\\users\\tanri\\.pyenv\\pyenv-win\\versions\\3.10.5\\lib\\site-packages (from python-dateutil>=2.7->matplotlib) (1.17.0)\n",
      "Installing collected packages: pyparsing, pillow, numpy, kiwisolver, fonttools, cycler, contourpy, matplotlib\n",
      "Successfully installed contourpy-1.3.1 cycler-0.12.1 fonttools-4.55.3 kiwisolver-1.4.8 matplotlib-3.10.0 numpy-2.2.1 pillow-11.1.0 pyparsing-3.2.1\n"
     ]
    },
    {
     "name": "stderr",
     "output_type": "stream",
     "text": [
      "WARNING: You are using pip version 22.0.4; however, version 24.3.1 is available.\n",
      "You should consider upgrading via the 'C:\\Users\\tanri\\.pyenv\\pyenv-win\\versions\\3.10.5\\python.exe -m pip install --upgrade pip' command.\n"
     ]
    }
   ],
   "source": [
    "!pip install matplotlib"
   ]
  },
  {
   "cell_type": "code",
   "execution_count": 36,
   "metadata": {},
   "outputs": [],
   "source": [
    "import glob\n",
    "# from matplotlib import pyplot as plt\n",
    "import pandas as pd\n",
    "import os\n",
    "# import seaborn as sns\n",
    "from sklearn.model_selection import train_test_split\n",
    "from sklearn.tree import DecisionTreeClassifier\n",
    "from sklearn.metrics import accuracy_score\n",
    "from sklearn.tree import DecisionTreeRegressor\n",
    "from sklearn.metrics import mean_squared_error as MSE\n",
    "from sklearn.metrics import r2_score as r2\n",
    "from sklearn.linear_model import LinearRegression "
   ]
  },
  {
   "cell_type": "code",
   "execution_count": 49,
   "metadata": {},
   "outputs": [],
   "source": [
    "import altair as alt"
   ]
  },
  {
   "cell_type": "code",
   "execution_count": 32,
   "metadata": {},
   "outputs": [
    {
     "data": {
      "text/plain": [
       "Index(['Composer', '  Nationality ', ' Born', 'Died', 'Biggest Piece',\n",
       "       'Duration of Biggest Piece(mins)'],\n",
       "      dtype='object')"
      ]
     },
     "execution_count": 32,
     "metadata": {},
     "output_type": "execute_result"
    }
   ],
   "source": [
    "df = pd.read_csv(\"classical_composers.csv\", delimiter=\",\", encoding='latin1')\n",
    "\n",
    "df.columns"
   ]
  },
  {
   "cell_type": "code",
   "execution_count": 2,
   "metadata": {},
   "outputs": [
    {
     "data": {
      "text/plain": [
       "<bound method NDFrame.head of                      Composer   Nationality     Born    Died  \\\n",
       "0                         NaN            NaN     NaN     NaN   \n",
       "1        Ludwig van Beethoven      German     1770.0  1791.0   \n",
       "2    Wolfgang Amadeus Mozart        Austrian  1756.0  1791.0   \n",
       "3      Johann Sebastian Bach       German     1685.0  1750.0   \n",
       "4              Richard Wagner      German     1813.0  1883.0   \n",
       "..                        ...            ...     ...     ...   \n",
       "96            Manuel de Falla        Spanish  1876.0  1946.0   \n",
       "97       Hildegard von Bingen      German     1098.0  1179.0   \n",
       "98             Mikhail Glinka        Russian  1804.0  1857.0   \n",
       "99         Alexander Glazunov        Russian  1865.0  1936.0   \n",
       "100        Don Carlo Gesualdo        Italian  1566.0  1613.0   \n",
       "\n",
       "                                         Biggest Piece  \\\n",
       "0                                                  NaN   \n",
       "1                                    Symphony No. 9      \n",
       "2                                       Symphony No.41   \n",
       "3                                      Mass in B minor   \n",
       "4                              Der Ring des Nibelungen   \n",
       "..                                                 ...   \n",
       "96     El amor brujo, Noches en los jardines de España   \n",
       "97   Ordo Virtutum, Symphony of the Harmony of Cele...   \n",
       "98             A Life for the Tsar, Ruslan and Ludmila   \n",
       "99                         The Seasons, Symphony No. 5   \n",
       "100                   Madrigals, Tenebrae Responsories   \n",
       "\n",
       "     Duration of Biggest Piece(mins)  \n",
       "0                                NaN  \n",
       "1                               65.0  \n",
       "2                               33.0  \n",
       "3                              125.0  \n",
       "4                                NaN  \n",
       "..                               ...  \n",
       "96                              23.0  \n",
       "97                               NaN  \n",
       "98                               NaN  \n",
       "99                              35.0  \n",
       "100                              NaN  \n",
       "\n",
       "[101 rows x 6 columns]>"
      ]
     },
     "execution_count": 2,
     "metadata": {},
     "output_type": "execute_result"
    }
   ],
   "source": [
    "df.head"
   ]
  },
  {
   "cell_type": "code",
   "execution_count": null,
   "metadata": {},
   "outputs": [
    {
     "ename": "KeyError",
     "evalue": "'[0] not found in axis'",
     "output_type": "error",
     "traceback": [
      "\u001b[1;31m---------------------------------------------------------------------------\u001b[0m",
      "\u001b[1;31mKeyError\u001b[0m                                  Traceback (most recent call last)",
      "Cell \u001b[1;32mIn[21], line 1\u001b[0m\n\u001b[1;32m----> 1\u001b[0m df \u001b[38;5;241m=\u001b[39m \u001b[43mdf\u001b[49m\u001b[38;5;241;43m.\u001b[39;49m\u001b[43mdrop\u001b[49m\u001b[43m(\u001b[49m\u001b[38;5;241;43m0\u001b[39;49m\u001b[43m,\u001b[49m\u001b[43m \u001b[49m\u001b[43maxis\u001b[49m\u001b[38;5;241;43m=\u001b[39;49m\u001b[38;5;241;43m0\u001b[39;49m\u001b[43m)\u001b[49m\n\u001b[0;32m      2\u001b[0m df\u001b[38;5;241m.\u001b[39mhead\n\u001b[0;32m      3\u001b[0m \u001b[38;5;28;01mimport\u001b[39;00m \u001b[38;5;21;01mmatplotlib\u001b[39;00m \n",
      "File \u001b[1;32mc:\\Users\\tanri\\AppData\\Local\\Programs\\Python\\Python312\\Lib\\site-packages\\pandas\\core\\frame.py:5581\u001b[0m, in \u001b[0;36mDataFrame.drop\u001b[1;34m(self, labels, axis, index, columns, level, inplace, errors)\u001b[0m\n\u001b[0;32m   5433\u001b[0m \u001b[38;5;28;01mdef\u001b[39;00m \u001b[38;5;21mdrop\u001b[39m(\n\u001b[0;32m   5434\u001b[0m     \u001b[38;5;28mself\u001b[39m,\n\u001b[0;32m   5435\u001b[0m     labels: IndexLabel \u001b[38;5;241m|\u001b[39m \u001b[38;5;28;01mNone\u001b[39;00m \u001b[38;5;241m=\u001b[39m \u001b[38;5;28;01mNone\u001b[39;00m,\n\u001b[1;32m   (...)\u001b[0m\n\u001b[0;32m   5442\u001b[0m     errors: IgnoreRaise \u001b[38;5;241m=\u001b[39m \u001b[38;5;124m\"\u001b[39m\u001b[38;5;124mraise\u001b[39m\u001b[38;5;124m\"\u001b[39m,\n\u001b[0;32m   5443\u001b[0m ) \u001b[38;5;241m-\u001b[39m\u001b[38;5;241m>\u001b[39m DataFrame \u001b[38;5;241m|\u001b[39m \u001b[38;5;28;01mNone\u001b[39;00m:\n\u001b[0;32m   5444\u001b[0m \u001b[38;5;250m    \u001b[39m\u001b[38;5;124;03m\"\"\"\u001b[39;00m\n\u001b[0;32m   5445\u001b[0m \u001b[38;5;124;03m    Drop specified labels from rows or columns.\u001b[39;00m\n\u001b[0;32m   5446\u001b[0m \n\u001b[1;32m   (...)\u001b[0m\n\u001b[0;32m   5579\u001b[0m \u001b[38;5;124;03m            weight  1.0     0.8\u001b[39;00m\n\u001b[0;32m   5580\u001b[0m \u001b[38;5;124;03m    \"\"\"\u001b[39;00m\n\u001b[1;32m-> 5581\u001b[0m     \u001b[38;5;28;01mreturn\u001b[39;00m \u001b[38;5;28;43msuper\u001b[39;49m\u001b[43m(\u001b[49m\u001b[43m)\u001b[49m\u001b[38;5;241;43m.\u001b[39;49m\u001b[43mdrop\u001b[49m\u001b[43m(\u001b[49m\n\u001b[0;32m   5582\u001b[0m \u001b[43m        \u001b[49m\u001b[43mlabels\u001b[49m\u001b[38;5;241;43m=\u001b[39;49m\u001b[43mlabels\u001b[49m\u001b[43m,\u001b[49m\n\u001b[0;32m   5583\u001b[0m \u001b[43m        \u001b[49m\u001b[43maxis\u001b[49m\u001b[38;5;241;43m=\u001b[39;49m\u001b[43maxis\u001b[49m\u001b[43m,\u001b[49m\n\u001b[0;32m   5584\u001b[0m \u001b[43m        \u001b[49m\u001b[43mindex\u001b[49m\u001b[38;5;241;43m=\u001b[39;49m\u001b[43mindex\u001b[49m\u001b[43m,\u001b[49m\n\u001b[0;32m   5585\u001b[0m \u001b[43m        \u001b[49m\u001b[43mcolumns\u001b[49m\u001b[38;5;241;43m=\u001b[39;49m\u001b[43mcolumns\u001b[49m\u001b[43m,\u001b[49m\n\u001b[0;32m   5586\u001b[0m \u001b[43m        \u001b[49m\u001b[43mlevel\u001b[49m\u001b[38;5;241;43m=\u001b[39;49m\u001b[43mlevel\u001b[49m\u001b[43m,\u001b[49m\n\u001b[0;32m   5587\u001b[0m \u001b[43m        \u001b[49m\u001b[43minplace\u001b[49m\u001b[38;5;241;43m=\u001b[39;49m\u001b[43minplace\u001b[49m\u001b[43m,\u001b[49m\n\u001b[0;32m   5588\u001b[0m \u001b[43m        \u001b[49m\u001b[43merrors\u001b[49m\u001b[38;5;241;43m=\u001b[39;49m\u001b[43merrors\u001b[49m\u001b[43m,\u001b[49m\n\u001b[0;32m   5589\u001b[0m \u001b[43m    \u001b[49m\u001b[43m)\u001b[49m\n",
      "File \u001b[1;32mc:\\Users\\tanri\\AppData\\Local\\Programs\\Python\\Python312\\Lib\\site-packages\\pandas\\core\\generic.py:4788\u001b[0m, in \u001b[0;36mNDFrame.drop\u001b[1;34m(self, labels, axis, index, columns, level, inplace, errors)\u001b[0m\n\u001b[0;32m   4786\u001b[0m \u001b[38;5;28;01mfor\u001b[39;00m axis, labels \u001b[38;5;129;01min\u001b[39;00m axes\u001b[38;5;241m.\u001b[39mitems():\n\u001b[0;32m   4787\u001b[0m     \u001b[38;5;28;01mif\u001b[39;00m labels \u001b[38;5;129;01mis\u001b[39;00m \u001b[38;5;129;01mnot\u001b[39;00m \u001b[38;5;28;01mNone\u001b[39;00m:\n\u001b[1;32m-> 4788\u001b[0m         obj \u001b[38;5;241m=\u001b[39m \u001b[43mobj\u001b[49m\u001b[38;5;241;43m.\u001b[39;49m\u001b[43m_drop_axis\u001b[49m\u001b[43m(\u001b[49m\u001b[43mlabels\u001b[49m\u001b[43m,\u001b[49m\u001b[43m \u001b[49m\u001b[43maxis\u001b[49m\u001b[43m,\u001b[49m\u001b[43m \u001b[49m\u001b[43mlevel\u001b[49m\u001b[38;5;241;43m=\u001b[39;49m\u001b[43mlevel\u001b[49m\u001b[43m,\u001b[49m\u001b[43m \u001b[49m\u001b[43merrors\u001b[49m\u001b[38;5;241;43m=\u001b[39;49m\u001b[43merrors\u001b[49m\u001b[43m)\u001b[49m\n\u001b[0;32m   4790\u001b[0m \u001b[38;5;28;01mif\u001b[39;00m inplace:\n\u001b[0;32m   4791\u001b[0m     \u001b[38;5;28mself\u001b[39m\u001b[38;5;241m.\u001b[39m_update_inplace(obj)\n",
      "File \u001b[1;32mc:\\Users\\tanri\\AppData\\Local\\Programs\\Python\\Python312\\Lib\\site-packages\\pandas\\core\\generic.py:4830\u001b[0m, in \u001b[0;36mNDFrame._drop_axis\u001b[1;34m(self, labels, axis, level, errors, only_slice)\u001b[0m\n\u001b[0;32m   4828\u001b[0m         new_axis \u001b[38;5;241m=\u001b[39m axis\u001b[38;5;241m.\u001b[39mdrop(labels, level\u001b[38;5;241m=\u001b[39mlevel, errors\u001b[38;5;241m=\u001b[39merrors)\n\u001b[0;32m   4829\u001b[0m     \u001b[38;5;28;01melse\u001b[39;00m:\n\u001b[1;32m-> 4830\u001b[0m         new_axis \u001b[38;5;241m=\u001b[39m \u001b[43maxis\u001b[49m\u001b[38;5;241;43m.\u001b[39;49m\u001b[43mdrop\u001b[49m\u001b[43m(\u001b[49m\u001b[43mlabels\u001b[49m\u001b[43m,\u001b[49m\u001b[43m \u001b[49m\u001b[43merrors\u001b[49m\u001b[38;5;241;43m=\u001b[39;49m\u001b[43merrors\u001b[49m\u001b[43m)\u001b[49m\n\u001b[0;32m   4831\u001b[0m     indexer \u001b[38;5;241m=\u001b[39m axis\u001b[38;5;241m.\u001b[39mget_indexer(new_axis)\n\u001b[0;32m   4833\u001b[0m \u001b[38;5;66;03m# Case for non-unique axis\u001b[39;00m\n\u001b[0;32m   4834\u001b[0m \u001b[38;5;28;01melse\u001b[39;00m:\n",
      "File \u001b[1;32mc:\\Users\\tanri\\AppData\\Local\\Programs\\Python\\Python312\\Lib\\site-packages\\pandas\\core\\indexes\\base.py:7070\u001b[0m, in \u001b[0;36mIndex.drop\u001b[1;34m(self, labels, errors)\u001b[0m\n\u001b[0;32m   7068\u001b[0m \u001b[38;5;28;01mif\u001b[39;00m mask\u001b[38;5;241m.\u001b[39many():\n\u001b[0;32m   7069\u001b[0m     \u001b[38;5;28;01mif\u001b[39;00m errors \u001b[38;5;241m!=\u001b[39m \u001b[38;5;124m\"\u001b[39m\u001b[38;5;124mignore\u001b[39m\u001b[38;5;124m\"\u001b[39m:\n\u001b[1;32m-> 7070\u001b[0m         \u001b[38;5;28;01mraise\u001b[39;00m \u001b[38;5;167;01mKeyError\u001b[39;00m(\u001b[38;5;124mf\u001b[39m\u001b[38;5;124m\"\u001b[39m\u001b[38;5;132;01m{\u001b[39;00mlabels[mask]\u001b[38;5;241m.\u001b[39mtolist()\u001b[38;5;132;01m}\u001b[39;00m\u001b[38;5;124m not found in axis\u001b[39m\u001b[38;5;124m\"\u001b[39m)\n\u001b[0;32m   7071\u001b[0m     indexer \u001b[38;5;241m=\u001b[39m indexer[\u001b[38;5;241m~\u001b[39mmask]\n\u001b[0;32m   7072\u001b[0m \u001b[38;5;28;01mreturn\u001b[39;00m \u001b[38;5;28mself\u001b[39m\u001b[38;5;241m.\u001b[39mdelete(indexer)\n",
      "\u001b[1;31mKeyError\u001b[0m: '[0] not found in axis'"
     ]
    }
   ],
   "source": [
    "df = df.drop(0, axis=0)\n",
    "df.head"
   ]
  },
  {
   "cell_type": "code",
   "execution_count": 5,
   "metadata": {},
   "outputs": [
    {
     "data": {
      "text/plain": [
       "1          Ludwig van Beethoven\n",
       "2      Wolfgang Amadeus Mozart \n",
       "3        Johann Sebastian Bach \n",
       "4                Richard Wagner\n",
       "5                 Joseph Haydn \n",
       "                 ...           \n",
       "96              Manuel de Falla\n",
       "97         Hildegard von Bingen\n",
       "98               Mikhail Glinka\n",
       "99           Alexander Glazunov\n",
       "100          Don Carlo Gesualdo\n",
       "Name: Composer, Length: 100, dtype: object"
      ]
     },
     "execution_count": 5,
     "metadata": {},
     "output_type": "execute_result"
    }
   ],
   "source": [
    "df.Composer"
   ]
  },
  {
   "cell_type": "markdown",
   "metadata": {},
   "source": [
    "## 第11回\n",
    "\n",
    "使用した楽器のデータセットもあったのでそれを使用する\n",
    "\n",
    "Christof Weiß, Matthias Mauch, Simon Dixon, and Meinard Müller\n",
    "Investigating Style Evolution of Western Classical Music: A Computational Approach\n",
    "Musicae Scientiae, 23(4): 486–507, 2019."
   ]
  },
  {
   "cell_type": "markdown",
   "metadata": {},
   "source": [
    "John Thickstun, Zaid Harchaoui, & Sham M. Kakade. (2016). MusicNet (1.0) [Data set]. Zenodo. https://doi.org/10.5281/zenodo.5120004"
   ]
  },
  {
   "cell_type": "code",
   "execution_count": null,
   "metadata": {},
   "outputs": [],
   "source": [
    "# https://www.kaggle.com/datasets/imsparsh/musicnet-dataset/data\n",
    "# https://www.kaggle.com/code/smogomes/music-generation-based-on-classics"
   ]
  },
  {
   "cell_type": "markdown",
   "metadata": {},
   "source": [
    "MusicNet is a collection of 330 freely-licensed classical music recordings, together with over 1 million annotated labels indicating the precise time of each note in every recording, the instrument that plays each note, and the note's position in the metrical structure of the composition. The labels are acquired from musical scores aligned to recordings by dynamic time warping. The labels are verified by trained musicians; a labeling error rate of 4% has been estimated. The MusicNet labels are offered to the machine learning and music communities as a resource for training models and a common benchmark for comparing results.\n",
    "\n",
    "https://www.kaggle.com/datasets/imsparsh/musicnet-dataset"
   ]
  },
  {
   "cell_type": "markdown",
   "metadata": {},
   "source": [
    "## データの確認"
   ]
  },
  {
   "cell_type": "code",
   "execution_count": 47,
   "metadata": {},
   "outputs": [],
   "source": [
    "data= pd.read_csv(\"MusicNet/musicnet_metadata.csv\")"
   ]
  },
  {
   "cell_type": "code",
   "execution_count": null,
   "metadata": {},
   "outputs": [],
   "source": [
    "df3= pd.read_csv(\"MusicNet/test_data/1759.csv\")"
   ]
  },
  {
   "cell_type": "code",
   "execution_count": 53,
   "metadata": {},
   "outputs": [
    {
     "data": {
      "text/html": [
       "<div>\n",
       "<style scoped>\n",
       "    .dataframe tbody tr th:only-of-type {\n",
       "        vertical-align: middle;\n",
       "    }\n",
       "\n",
       "    .dataframe tbody tr th {\n",
       "        vertical-align: top;\n",
       "    }\n",
       "\n",
       "    .dataframe thead th {\n",
       "        text-align: right;\n",
       "    }\n",
       "</style>\n",
       "<table border=\"1\" class=\"dataframe\">\n",
       "  <thead>\n",
       "    <tr style=\"text-align: right;\">\n",
       "      <th></th>\n",
       "      <th>start_time</th>\n",
       "      <th>end_time</th>\n",
       "      <th>instrument</th>\n",
       "      <th>note</th>\n",
       "      <th>start_beat</th>\n",
       "      <th>end_beat</th>\n",
       "      <th>note_value</th>\n",
       "    </tr>\n",
       "  </thead>\n",
       "  <tbody>\n",
       "    <tr>\n",
       "      <th>0</th>\n",
       "      <td>90078</td>\n",
       "      <td>124382</td>\n",
       "      <td>1</td>\n",
       "      <td>63</td>\n",
       "      <td>0.0</td>\n",
       "      <td>1.000</td>\n",
       "      <td>Quarter</td>\n",
       "    </tr>\n",
       "    <tr>\n",
       "      <th>1</th>\n",
       "      <td>90078</td>\n",
       "      <td>124382</td>\n",
       "      <td>1</td>\n",
       "      <td>75</td>\n",
       "      <td>0.0</td>\n",
       "      <td>1.000</td>\n",
       "      <td>Quarter</td>\n",
       "    </tr>\n",
       "    <tr>\n",
       "      <th>2</th>\n",
       "      <td>90078</td>\n",
       "      <td>110558</td>\n",
       "      <td>1</td>\n",
       "      <td>48</td>\n",
       "      <td>0.0</td>\n",
       "      <td>0.375</td>\n",
       "      <td>Dotted Sixteenth</td>\n",
       "    </tr>\n",
       "    <tr>\n",
       "      <th>3</th>\n",
       "      <td>114654</td>\n",
       "      <td>122334</td>\n",
       "      <td>1</td>\n",
       "      <td>55</td>\n",
       "      <td>0.5</td>\n",
       "      <td>0.375</td>\n",
       "      <td>Dotted Sixteenth</td>\n",
       "    </tr>\n",
       "    <tr>\n",
       "      <th>4</th>\n",
       "      <td>124382</td>\n",
       "      <td>139742</td>\n",
       "      <td>1</td>\n",
       "      <td>65</td>\n",
       "      <td>1.0</td>\n",
       "      <td>1.000</td>\n",
       "      <td>Quarter</td>\n",
       "    </tr>\n",
       "  </tbody>\n",
       "</table>\n",
       "</div>"
      ],
      "text/plain": [
       "   start_time  end_time  instrument  note  start_beat  end_beat  \\\n",
       "0       90078    124382           1    63         0.0     1.000   \n",
       "1       90078    124382           1    75         0.0     1.000   \n",
       "2       90078    110558           1    48         0.0     0.375   \n",
       "3      114654    122334           1    55         0.5     0.375   \n",
       "4      124382    139742           1    65         1.0     1.000   \n",
       "\n",
       "         note_value  \n",
       "0           Quarter  \n",
       "1           Quarter  \n",
       "2  Dotted Sixteenth  \n",
       "3  Dotted Sixteenth  \n",
       "4           Quarter  "
      ]
     },
     "execution_count": 53,
     "metadata": {},
     "output_type": "execute_result"
    }
   ],
   "source": [
    "df3.head(5)"
   ]
  },
  {
   "cell_type": "code",
   "execution_count": 52,
   "metadata": {},
   "outputs": [
    {
     "data": {
      "text/plain": [
       "note\n",
       "51      141\n",
       "55      132\n",
       "63      104\n",
       "48       99\n",
       "Name: count, dtype: int64"
      ]
     },
     "execution_count": 52,
     "metadata": {},
     "output_type": "execute_result"
    }
   ],
   "source": [
    "df3['note'].unique()\n",
    "df3[[\"note\"]].value_counts().head(4)"
   ]
  },
  {
   "cell_type": "markdown",
   "metadata": {},
   "source": [
    "## 変数の定義\n",
    "メタデータ上に気になる変数である'note','instrument'が見あたらなかったので、解読をする。\\\n",
    "'note': 60が middle C, この分析ではC4とする. 半音あがることで1増える。\\\n",
    "1オクターブ12音あります。\n",
    "\n",
    "'instrument': [ここから](https://music.stackexchange.com/questions/135779/im-having-difficulty-comprehending-the-timing-information-presented-in-the-csv)取得。\\\n",
    "-1 is Piano (4th and 5th staff)\\\n",
    "-41 is Violin (1st staff)\\\n",
    "-42 is Viola (2nd staff)\\\n",
    "-43 is Cello (3rd staff, upper voice)\\\n",
    "-44 is Double Bass (3rd staff, lower voice)\n",
    "\n",
    "test data, train dataをmetadataとmergeする。"
   ]
  },
  {
   "cell_type": "code",
   "execution_count": 41,
   "metadata": {},
   "outputs": [
    {
     "name": "stdout",
     "output_type": "stream",
     "text": [
      "['MusicNet/train_data\\\\1727.csv', 'MusicNet/train_data\\\\1728.csv', 'MusicNet/train_data\\\\1729.csv', 'MusicNet/train_data\\\\1730.csv', 'MusicNet/train_data\\\\1733.csv', 'MusicNet/train_data\\\\1734.csv', 'MusicNet/train_data\\\\1735.csv', 'MusicNet/train_data\\\\1739.csv', 'MusicNet/train_data\\\\1742.csv', 'MusicNet/train_data\\\\1749.csv', 'MusicNet/train_data\\\\1750.csv', 'MusicNet/train_data\\\\1751.csv', 'MusicNet/train_data\\\\1752.csv', 'MusicNet/train_data\\\\1755.csv', 'MusicNet/train_data\\\\1756.csv', 'MusicNet/train_data\\\\1757.csv', 'MusicNet/train_data\\\\1758.csv', 'MusicNet/train_data\\\\1760.csv', 'MusicNet/train_data\\\\1763.csv', 'MusicNet/train_data\\\\1764.csv', 'MusicNet/train_data\\\\1765.csv', 'MusicNet/train_data\\\\1766.csv', 'MusicNet/train_data\\\\1768.csv', 'MusicNet/train_data\\\\1771.csv', 'MusicNet/train_data\\\\1772.csv', 'MusicNet/train_data\\\\1773.csv', 'MusicNet/train_data\\\\1775.csv', 'MusicNet/train_data\\\\1776.csv', 'MusicNet/train_data\\\\1777.csv', 'MusicNet/train_data\\\\1788.csv', 'MusicNet/train_data\\\\1789.csv', 'MusicNet/train_data\\\\1790.csv', 'MusicNet/train_data\\\\1791.csv', 'MusicNet/train_data\\\\1792.csv', 'MusicNet/train_data\\\\1793.csv', 'MusicNet/train_data\\\\1805.csv', 'MusicNet/train_data\\\\1807.csv', 'MusicNet/train_data\\\\1811.csv', 'MusicNet/train_data\\\\1812.csv', 'MusicNet/train_data\\\\1813.csv', 'MusicNet/train_data\\\\1817.csv', 'MusicNet/train_data\\\\1818.csv', 'MusicNet/train_data\\\\1822.csv', 'MusicNet/train_data\\\\1824.csv', 'MusicNet/train_data\\\\1828.csv', 'MusicNet/train_data\\\\1829.csv', 'MusicNet/train_data\\\\1835.csv', 'MusicNet/train_data\\\\1859.csv', 'MusicNet/train_data\\\\1872.csv', 'MusicNet/train_data\\\\1873.csv', 'MusicNet/train_data\\\\1876.csv', 'MusicNet/train_data\\\\1893.csv', 'MusicNet/train_data\\\\1916.csv', 'MusicNet/train_data\\\\1918.csv', 'MusicNet/train_data\\\\1919.csv', 'MusicNet/train_data\\\\1922.csv', 'MusicNet/train_data\\\\1923.csv', 'MusicNet/train_data\\\\1931.csv', 'MusicNet/train_data\\\\1932.csv', 'MusicNet/train_data\\\\1933.csv', 'MusicNet/train_data\\\\2075.csv', 'MusicNet/train_data\\\\2076.csv', 'MusicNet/train_data\\\\2077.csv', 'MusicNet/train_data\\\\2078.csv', 'MusicNet/train_data\\\\2079.csv', 'MusicNet/train_data\\\\2080.csv', 'MusicNet/train_data\\\\2081.csv', 'MusicNet/train_data\\\\2082.csv', 'MusicNet/train_data\\\\2083.csv', 'MusicNet/train_data\\\\2104.csv', 'MusicNet/train_data\\\\2105.csv', 'MusicNet/train_data\\\\2112.csv', 'MusicNet/train_data\\\\2113.csv', 'MusicNet/train_data\\\\2114.csv', 'MusicNet/train_data\\\\2116.csv', 'MusicNet/train_data\\\\2117.csv', 'MusicNet/train_data\\\\2118.csv', 'MusicNet/train_data\\\\2119.csv', 'MusicNet/train_data\\\\2127.csv', 'MusicNet/train_data\\\\2131.csv', 'MusicNet/train_data\\\\2138.csv', 'MusicNet/train_data\\\\2140.csv', 'MusicNet/train_data\\\\2147.csv', 'MusicNet/train_data\\\\2148.csv', 'MusicNet/train_data\\\\2149.csv', 'MusicNet/train_data\\\\2150.csv', 'MusicNet/train_data\\\\2151.csv', 'MusicNet/train_data\\\\2154.csv', 'MusicNet/train_data\\\\2155.csv', 'MusicNet/train_data\\\\2156.csv', 'MusicNet/train_data\\\\2157.csv', 'MusicNet/train_data\\\\2158.csv', 'MusicNet/train_data\\\\2159.csv', 'MusicNet/train_data\\\\2160.csv', 'MusicNet/train_data\\\\2161.csv', 'MusicNet/train_data\\\\2166.csv', 'MusicNet/train_data\\\\2167.csv', 'MusicNet/train_data\\\\2168.csv', 'MusicNet/train_data\\\\2169.csv', 'MusicNet/train_data\\\\2177.csv', 'MusicNet/train_data\\\\2178.csv', 'MusicNet/train_data\\\\2179.csv', 'MusicNet/train_data\\\\2180.csv', 'MusicNet/train_data\\\\2186.csv', 'MusicNet/train_data\\\\2194.csv', 'MusicNet/train_data\\\\2195.csv', 'MusicNet/train_data\\\\2196.csv', 'MusicNet/train_data\\\\2198.csv', 'MusicNet/train_data\\\\2200.csv', 'MusicNet/train_data\\\\2201.csv', 'MusicNet/train_data\\\\2202.csv', 'MusicNet/train_data\\\\2203.csv', 'MusicNet/train_data\\\\2204.csv', 'MusicNet/train_data\\\\2207.csv', 'MusicNet/train_data\\\\2208.csv', 'MusicNet/train_data\\\\2209.csv', 'MusicNet/train_data\\\\2210.csv', 'MusicNet/train_data\\\\2211.csv', 'MusicNet/train_data\\\\2212.csv', 'MusicNet/train_data\\\\2213.csv', 'MusicNet/train_data\\\\2214.csv', 'MusicNet/train_data\\\\2215.csv', 'MusicNet/train_data\\\\2217.csv', 'MusicNet/train_data\\\\2218.csv', 'MusicNet/train_data\\\\2219.csv', 'MusicNet/train_data\\\\2220.csv', 'MusicNet/train_data\\\\2221.csv', 'MusicNet/train_data\\\\2222.csv', 'MusicNet/train_data\\\\2224.csv', 'MusicNet/train_data\\\\2225.csv', 'MusicNet/train_data\\\\2227.csv', 'MusicNet/train_data\\\\2228.csv', 'MusicNet/train_data\\\\2229.csv', 'MusicNet/train_data\\\\2230.csv', 'MusicNet/train_data\\\\2231.csv', 'MusicNet/train_data\\\\2232.csv', 'MusicNet/train_data\\\\2234.csv', 'MusicNet/train_data\\\\2237.csv', 'MusicNet/train_data\\\\2238.csv', 'MusicNet/train_data\\\\2239.csv', 'MusicNet/train_data\\\\2240.csv', 'MusicNet/train_data\\\\2241.csv', 'MusicNet/train_data\\\\2242.csv', 'MusicNet/train_data\\\\2243.csv', 'MusicNet/train_data\\\\2244.csv', 'MusicNet/train_data\\\\2247.csv', 'MusicNet/train_data\\\\2248.csv', 'MusicNet/train_data\\\\2282.csv', 'MusicNet/train_data\\\\2283.csv', 'MusicNet/train_data\\\\2284.csv', 'MusicNet/train_data\\\\2285.csv', 'MusicNet/train_data\\\\2288.csv', 'MusicNet/train_data\\\\2289.csv', 'MusicNet/train_data\\\\2292.csv', 'MusicNet/train_data\\\\2293.csv', 'MusicNet/train_data\\\\2294.csv', 'MusicNet/train_data\\\\2295.csv', 'MusicNet/train_data\\\\2296.csv', 'MusicNet/train_data\\\\2297.csv', 'MusicNet/train_data\\\\2300.csv', 'MusicNet/train_data\\\\2302.csv', 'MusicNet/train_data\\\\2304.csv', 'MusicNet/train_data\\\\2305.csv', 'MusicNet/train_data\\\\2307.csv', 'MusicNet/train_data\\\\2308.csv', 'MusicNet/train_data\\\\2310.csv', 'MusicNet/train_data\\\\2313.csv', 'MusicNet/train_data\\\\2314.csv', 'MusicNet/train_data\\\\2315.csv', 'MusicNet/train_data\\\\2318.csv', 'MusicNet/train_data\\\\2319.csv', 'MusicNet/train_data\\\\2320.csv', 'MusicNet/train_data\\\\2322.csv', 'MusicNet/train_data\\\\2325.csv', 'MusicNet/train_data\\\\2330.csv', 'MusicNet/train_data\\\\2334.csv', 'MusicNet/train_data\\\\2335.csv', 'MusicNet/train_data\\\\2336.csv', 'MusicNet/train_data\\\\2341.csv', 'MusicNet/train_data\\\\2342.csv', 'MusicNet/train_data\\\\2343.csv', 'MusicNet/train_data\\\\2345.csv', 'MusicNet/train_data\\\\2346.csv', 'MusicNet/train_data\\\\2348.csv', 'MusicNet/train_data\\\\2350.csv', 'MusicNet/train_data\\\\2357.csv', 'MusicNet/train_data\\\\2358.csv', 'MusicNet/train_data\\\\2359.csv', 'MusicNet/train_data\\\\2364.csv', 'MusicNet/train_data\\\\2365.csv', 'MusicNet/train_data\\\\2366.csv', 'MusicNet/train_data\\\\2368.csv', 'MusicNet/train_data\\\\2371.csv', 'MusicNet/train_data\\\\2372.csv', 'MusicNet/train_data\\\\2373.csv', 'MusicNet/train_data\\\\2374.csv', 'MusicNet/train_data\\\\2376.csv', 'MusicNet/train_data\\\\2377.csv', 'MusicNet/train_data\\\\2379.csv', 'MusicNet/train_data\\\\2381.csv', 'MusicNet/train_data\\\\2383.csv', 'MusicNet/train_data\\\\2384.csv', 'MusicNet/train_data\\\\2388.csv', 'MusicNet/train_data\\\\2389.csv', 'MusicNet/train_data\\\\2390.csv', 'MusicNet/train_data\\\\2391.csv', 'MusicNet/train_data\\\\2392.csv', 'MusicNet/train_data\\\\2393.csv', 'MusicNet/train_data\\\\2397.csv', 'MusicNet/train_data\\\\2398.csv', 'MusicNet/train_data\\\\2403.csv', 'MusicNet/train_data\\\\2404.csv', 'MusicNet/train_data\\\\2405.csv', 'MusicNet/train_data\\\\2406.csv', 'MusicNet/train_data\\\\2410.csv', 'MusicNet/train_data\\\\2411.csv', 'MusicNet/train_data\\\\2415.csv', 'MusicNet/train_data\\\\2417.csv', 'MusicNet/train_data\\\\2420.csv', 'MusicNet/train_data\\\\2422.csv', 'MusicNet/train_data\\\\2423.csv', 'MusicNet/train_data\\\\2424.csv', 'MusicNet/train_data\\\\2431.csv', 'MusicNet/train_data\\\\2432.csv', 'MusicNet/train_data\\\\2433.csv', 'MusicNet/train_data\\\\2436.csv', 'MusicNet/train_data\\\\2441.csv', 'MusicNet/train_data\\\\2442.csv', 'MusicNet/train_data\\\\2443.csv', 'MusicNet/train_data\\\\2444.csv', 'MusicNet/train_data\\\\2451.csv', 'MusicNet/train_data\\\\2462.csv', 'MusicNet/train_data\\\\2463.csv', 'MusicNet/train_data\\\\2466.csv', 'MusicNet/train_data\\\\2471.csv', 'MusicNet/train_data\\\\2472.csv', 'MusicNet/train_data\\\\2473.csv', 'MusicNet/train_data\\\\2476.csv', 'MusicNet/train_data\\\\2477.csv', 'MusicNet/train_data\\\\2478.csv', 'MusicNet/train_data\\\\2480.csv', 'MusicNet/train_data\\\\2481.csv', 'MusicNet/train_data\\\\2482.csv', 'MusicNet/train_data\\\\2483.csv', 'MusicNet/train_data\\\\2486.csv', 'MusicNet/train_data\\\\2487.csv', 'MusicNet/train_data\\\\2488.csv', 'MusicNet/train_data\\\\2490.csv', 'MusicNet/train_data\\\\2491.csv', 'MusicNet/train_data\\\\2492.csv', 'MusicNet/train_data\\\\2494.csv', 'MusicNet/train_data\\\\2497.csv', 'MusicNet/train_data\\\\2501.csv', 'MusicNet/train_data\\\\2502.csv', 'MusicNet/train_data\\\\2504.csv', 'MusicNet/train_data\\\\2505.csv', 'MusicNet/train_data\\\\2506.csv', 'MusicNet/train_data\\\\2507.csv', 'MusicNet/train_data\\\\2509.csv', 'MusicNet/train_data\\\\2510.csv', 'MusicNet/train_data\\\\2512.csv', 'MusicNet/train_data\\\\2514.csv', 'MusicNet/train_data\\\\2516.csv', 'MusicNet/train_data\\\\2521.csv', 'MusicNet/train_data\\\\2522.csv', 'MusicNet/train_data\\\\2523.csv', 'MusicNet/train_data\\\\2527.csv', 'MusicNet/train_data\\\\2528.csv', 'MusicNet/train_data\\\\2529.csv', 'MusicNet/train_data\\\\2530.csv', 'MusicNet/train_data\\\\2531.csv', 'MusicNet/train_data\\\\2532.csv', 'MusicNet/train_data\\\\2533.csv', 'MusicNet/train_data\\\\2537.csv', 'MusicNet/train_data\\\\2538.csv', 'MusicNet/train_data\\\\2540.csv', 'MusicNet/train_data\\\\2542.csv', 'MusicNet/train_data\\\\2550.csv', 'MusicNet/train_data\\\\2555.csv', 'MusicNet/train_data\\\\2557.csv', 'MusicNet/train_data\\\\2560.csv', 'MusicNet/train_data\\\\2562.csv', 'MusicNet/train_data\\\\2564.csv', 'MusicNet/train_data\\\\2566.csv', 'MusicNet/train_data\\\\2567.csv', 'MusicNet/train_data\\\\2568.csv', 'MusicNet/train_data\\\\2570.csv', 'MusicNet/train_data\\\\2571.csv', 'MusicNet/train_data\\\\2572.csv', 'MusicNet/train_data\\\\2573.csv', 'MusicNet/train_data\\\\2575.csv', 'MusicNet/train_data\\\\2576.csv', 'MusicNet/train_data\\\\2581.csv', 'MusicNet/train_data\\\\2582.csv', 'MusicNet/train_data\\\\2586.csv', 'MusicNet/train_data\\\\2588.csv', 'MusicNet/train_data\\\\2590.csv', 'MusicNet/train_data\\\\2591.csv', 'MusicNet/train_data\\\\2593.csv', 'MusicNet/train_data\\\\2594.csv', 'MusicNet/train_data\\\\2595.csv', 'MusicNet/train_data\\\\2596.csv', 'MusicNet/train_data\\\\2603.csv', 'MusicNet/train_data\\\\2607.csv', 'MusicNet/train_data\\\\2608.csv', 'MusicNet/train_data\\\\2611.csv', 'MusicNet/train_data\\\\2614.csv', 'MusicNet/train_data\\\\2618.csv', 'MusicNet/train_data\\\\2619.csv', 'MusicNet/train_data\\\\2620.csv', 'MusicNet/train_data\\\\2621.csv', 'MusicNet/train_data\\\\2622.csv', 'MusicNet/train_data\\\\2626.csv', 'MusicNet/train_data\\\\2627.csv', 'MusicNet/train_data\\\\2629.csv', 'MusicNet/train_data\\\\2632.csv', 'MusicNet/train_data\\\\2633.csv', 'MusicNet/train_data\\\\2659.csv', 'MusicNet/train_data\\\\2677.csv', 'MusicNet/train_data\\\\2678.csv']\n"
     ]
    }
   ],
   "source": [
    "path = 'MusicNet/train_data'\n",
    "all_files = glob.glob(path + \"/*.csv\")\n",
    "print(all_files)\n",
    "li = []\n",
    "\n",
    "for filename in all_files:\n",
    "    df = pd.read_csv(filename)\n",
    "    df['id'] = os.path.basename(filename[:-4])\n",
    "    li.append(df)\n",
    "test = pd.concat(li, axis=0, ignore_index=True)\n",
    "test['id'] = test['id'].astype(str).astype(int)\n"
   ]
  },
  {
   "cell_type": "code",
   "execution_count": 42,
   "metadata": {},
   "outputs": [],
   "source": [
    "path = \"MusicNet/test_data\"\n",
    "all_files = glob.glob(path + \"/*.csv\")\n",
    "\n",
    "li = []\n",
    "\n",
    "for filename in all_files:\n",
    "    df = pd.read_csv(filename)\n",
    "    df['id'] = os.path.basename(filename[:-4])\n",
    "    li.append(df)\n",
    "train = pd.concat(li, axis=0, ignore_index=True)\n",
    "train['id'] = train['id'].astype(str).astype(int)"
   ]
  },
  {
   "cell_type": "code",
   "execution_count": 45,
   "metadata": {},
   "outputs": [
    {
     "name": "stdout",
     "output_type": "stream",
     "text": [
      "start_time    66027\n",
      "end_time      67215\n",
      "instrument       11\n",
      "note             83\n",
      "start_beat    46378\n",
      "end_beat       1284\n",
      "note_value       18\n",
      "id              320\n",
      "dtype: int64\n",
      "start_time    5614\n",
      "end_time      6145\n",
      "instrument       7\n",
      "note            68\n",
      "start_beat    2118\n",
      "end_beat       101\n",
      "note_value      14\n",
      "id              10\n",
      "dtype: int64\n"
     ]
    }
   ],
   "source": [
    "# checked :no null values\n",
    "print(test.nunique())\n",
    "print(train.nunique())"
   ]
  },
  {
   "cell_type": "code",
   "execution_count": 48,
   "metadata": {},
   "outputs": [
    {
     "data": {
      "text/html": [
       "<div>\n",
       "<style scoped>\n",
       "    .dataframe tbody tr th:only-of-type {\n",
       "        vertical-align: middle;\n",
       "    }\n",
       "\n",
       "    .dataframe tbody tr th {\n",
       "        vertical-align: top;\n",
       "    }\n",
       "\n",
       "    .dataframe thead th {\n",
       "        text-align: right;\n",
       "    }\n",
       "</style>\n",
       "<table border=\"1\" class=\"dataframe\">\n",
       "  <thead>\n",
       "    <tr style=\"text-align: right;\">\n",
       "      <th></th>\n",
       "      <th>id</th>\n",
       "      <th>composer</th>\n",
       "      <th>composition</th>\n",
       "      <th>movement</th>\n",
       "      <th>ensemble</th>\n",
       "      <th>seconds</th>\n",
       "      <th>start_time</th>\n",
       "      <th>end_time</th>\n",
       "      <th>instrument</th>\n",
       "      <th>note</th>\n",
       "      <th>start_beat</th>\n",
       "      <th>end_beat</th>\n",
       "      <th>note_value</th>\n",
       "    </tr>\n",
       "  </thead>\n",
       "  <tbody>\n",
       "    <tr>\n",
       "      <th>0</th>\n",
       "      <td>1727</td>\n",
       "      <td>Schubert</td>\n",
       "      <td>Piano Quintet in A major</td>\n",
       "      <td>2. Andante</td>\n",
       "      <td>Piano Quintet</td>\n",
       "      <td>447</td>\n",
       "      <td>9182</td>\n",
       "      <td>90078</td>\n",
       "      <td>43</td>\n",
       "      <td>53</td>\n",
       "      <td>4.0</td>\n",
       "      <td>1.5</td>\n",
       "      <td>Dotted Quarter</td>\n",
       "    </tr>\n",
       "    <tr>\n",
       "      <th>1</th>\n",
       "      <td>1727</td>\n",
       "      <td>Schubert</td>\n",
       "      <td>Piano Quintet in A major</td>\n",
       "      <td>2. Andante</td>\n",
       "      <td>Piano Quintet</td>\n",
       "      <td>447</td>\n",
       "      <td>9182</td>\n",
       "      <td>33758</td>\n",
       "      <td>42</td>\n",
       "      <td>65</td>\n",
       "      <td>4.0</td>\n",
       "      <td>0.5</td>\n",
       "      <td>Eighth</td>\n",
       "    </tr>\n",
       "    <tr>\n",
       "      <th>2</th>\n",
       "      <td>1727</td>\n",
       "      <td>Schubert</td>\n",
       "      <td>Piano Quintet in A major</td>\n",
       "      <td>2. Andante</td>\n",
       "      <td>Piano Quintet</td>\n",
       "      <td>447</td>\n",
       "      <td>9182</td>\n",
       "      <td>62430</td>\n",
       "      <td>1</td>\n",
       "      <td>69</td>\n",
       "      <td>4.0</td>\n",
       "      <td>1.0</td>\n",
       "      <td>Quarter</td>\n",
       "    </tr>\n",
       "    <tr>\n",
       "      <th>3</th>\n",
       "      <td>1727</td>\n",
       "      <td>Schubert</td>\n",
       "      <td>Piano Quintet in A major</td>\n",
       "      <td>2. Andante</td>\n",
       "      <td>Piano Quintet</td>\n",
       "      <td>447</td>\n",
       "      <td>9182</td>\n",
       "      <td>202206</td>\n",
       "      <td>44</td>\n",
       "      <td>41</td>\n",
       "      <td>4.0</td>\n",
       "      <td>3.5</td>\n",
       "      <td>Whole</td>\n",
       "    </tr>\n",
       "    <tr>\n",
       "      <th>4</th>\n",
       "      <td>1727</td>\n",
       "      <td>Schubert</td>\n",
       "      <td>Piano Quintet in A major</td>\n",
       "      <td>2. Andante</td>\n",
       "      <td>Piano Quintet</td>\n",
       "      <td>447</td>\n",
       "      <td>9182</td>\n",
       "      <td>62430</td>\n",
       "      <td>1</td>\n",
       "      <td>81</td>\n",
       "      <td>4.0</td>\n",
       "      <td>1.0</td>\n",
       "      <td>Quarter</td>\n",
       "    </tr>\n",
       "  </tbody>\n",
       "</table>\n",
       "</div>"
      ],
      "text/plain": [
       "     id  composer               composition    movement       ensemble  \\\n",
       "0  1727  Schubert  Piano Quintet in A major  2. Andante  Piano Quintet   \n",
       "1  1727  Schubert  Piano Quintet in A major  2. Andante  Piano Quintet   \n",
       "2  1727  Schubert  Piano Quintet in A major  2. Andante  Piano Quintet   \n",
       "3  1727  Schubert  Piano Quintet in A major  2. Andante  Piano Quintet   \n",
       "4  1727  Schubert  Piano Quintet in A major  2. Andante  Piano Quintet   \n",
       "\n",
       "   seconds  start_time  end_time  instrument  note  start_beat  end_beat  \\\n",
       "0      447        9182     90078          43    53         4.0       1.5   \n",
       "1      447        9182     33758          42    65         4.0       0.5   \n",
       "2      447        9182     62430           1    69         4.0       1.0   \n",
       "3      447        9182    202206          44    41         4.0       3.5   \n",
       "4      447        9182     62430           1    81         4.0       1.0   \n",
       "\n",
       "       note_value  \n",
       "0  Dotted Quarter  \n",
       "1          Eighth  \n",
       "2         Quarter  \n",
       "3           Whole  \n",
       "4         Quarter  "
      ]
     },
     "execution_count": 48,
     "metadata": {},
     "output_type": "execute_result"
    }
   ],
   "source": [
    "data_train = data.merge(train, on = 'id')\n",
    "data_train = data_train.drop(['source', 'transcriber', 'catalog_name'], axis=1)\n",
    "data_test = data.merge(test, on = 'id')\n",
    "data_test = data_test.drop(['source', 'transcriber', 'catalog_name'], axis=1)\n",
    "entire_data = pd.concat([data_test, data_train])\n",
    "entire_data.head(5)"
   ]
  }
 ],
 "metadata": {
  "kernelspec": {
   "display_name": "Python 3",
   "language": "python",
   "name": "python3"
  },
  "language_info": {
   "codemirror_mode": {
    "name": "ipython",
    "version": 3
   },
   "file_extension": ".py",
   "mimetype": "text/x-python",
   "name": "python",
   "nbconvert_exporter": "python",
   "pygments_lexer": "ipython3",
   "version": "3.12.0"
  }
 },
 "nbformat": 4,
 "nbformat_minor": 2
}
