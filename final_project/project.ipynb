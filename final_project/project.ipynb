{
 "cells": [
  {
   "cell_type": "markdown",
   "metadata": {},
   "source": [
    "# 最終課題\n",
    "\n",
    "最終発表：10分程度／人（発表5分、ディスカッション5分）\n",
    "発表資料：A4数枚に以下の内容をまとめ、発表後に提出してください\n",
    "答えたい問い\n",
    "データの概要、取得と前処理の方法\n",
    "データ変数と視覚変数の対応関係\n",
    "可視化作品と考察\n",
    "コードかコードへのリンク（あれば）\n"
   ]
  },
  {
   "cell_type": "markdown",
   "metadata": {},
   "source": [
    "## 第10回\n",
    "どのような主題にするか？\\\n",
    "・クラシック音楽\n",
    "\n",
    "どこでデータを入手するか？\\\n",
    "・オープンデータを使う\n",
    "\n",
    "どのような問いを設定する？\\\n",
    "・有名な作曲家の国籍と曲の長さの関係に興味があります\\\n",
    "・流派や時代が曲の長さに影響するかもしれないと考える\n"
   ]
  },
  {
   "cell_type": "markdown",
   "metadata": {},
   "source": [
    "### データセット\n",
    "\n",
    "https://www.kaggle.com/datasets/tarunrm09/top-classical-composers?resource=download\n",
    "から取得\n",
    "\n",
    "This dataset contains a comprehensive list of the most famous classical composers. The dataset provides insights into the composers details such as their best piece and the duration of that piece. The dataset includes information such as composers name, nationality, birth year, death year , their most famous works, and the duration of their famous piece."
   ]
  },
  {
   "cell_type": "code",
   "execution_count": 8,
   "metadata": {},
   "outputs": [
    {
     "name": "stdout",
     "output_type": "stream",
     "text": [
      "Collecting plotly\n",
      "  Using cached plotly-5.24.1-py3-none-any.whl (19.1 MB)\n",
      "Requirement already satisfied: packaging in c:\\users\\tanri\\.pyenv\\pyenv-win\\versions\\3.10.5\\lib\\site-packages (from plotly) (24.2)\n",
      "Collecting tenacity>=6.2.0\n",
      "  Using cached tenacity-9.0.0-py3-none-any.whl (28 kB)\n",
      "Installing collected packages: tenacity, plotly\n",
      "Successfully installed plotly-5.24.1 tenacity-9.0.0\n"
     ]
    },
    {
     "name": "stderr",
     "output_type": "stream",
     "text": [
      "WARNING: You are using pip version 22.0.4; however, version 24.3.1 is available.\n",
      "You should consider upgrading via the 'C:\\Users\\tanri\\.pyenv\\pyenv-win\\versions\\3.10.5\\python.exe -m pip install --upgrade pip' command.\n"
     ]
    }
   ],
   "source": [
    "!pip install plotly\n"
   ]
  },
  {
   "cell_type": "code",
   "execution_count": 9,
   "metadata": {},
   "outputs": [
    {
     "ename": "ModuleNotFoundError",
     "evalue": "No module named 'plotly'",
     "output_type": "error",
     "traceback": [
      "\u001b[1;31m---------------------------------------------------------------------------\u001b[0m",
      "\u001b[1;31mModuleNotFoundError\u001b[0m                       Traceback (most recent call last)",
      "Cell \u001b[1;32mIn[9], line 2\u001b[0m\n\u001b[0;32m      1\u001b[0m \u001b[38;5;28;01mimport\u001b[39;00m \u001b[38;5;21;01mpandas\u001b[39;00m \u001b[38;5;28;01mas\u001b[39;00m \u001b[38;5;21;01mpd\u001b[39;00m\n\u001b[1;32m----> 2\u001b[0m \u001b[38;5;28;01mfrom\u001b[39;00m \u001b[38;5;21;01mplotly\u001b[39;00m \u001b[38;5;28;01mimport\u001b[39;00m express\n\u001b[0;32m      3\u001b[0m \u001b[38;5;28;01mfrom\u001b[39;00m \u001b[38;5;21;01mwarnings\u001b[39;00m \u001b[38;5;28;01mimport\u001b[39;00m filterwarnings\n\u001b[0;32m      4\u001b[0m filterwarnings(action\u001b[38;5;241m=\u001b[39m\u001b[38;5;124m'\u001b[39m\u001b[38;5;124mignore\u001b[39m\u001b[38;5;124m'\u001b[39m, category\u001b[38;5;241m=\u001b[39m\u001b[38;5;167;01mFutureWarning\u001b[39;00m)\n",
      "\u001b[1;31mModuleNotFoundError\u001b[0m: No module named 'plotly'"
     ]
    }
   ],
   "source": [
    "import pandas as pd\n",
    "from warnings import filterwarnings\n",
    "filterwarnings(action='ignore', category=FutureWarning)\n",
    "\n",
    "df = pd.read_csv(\"classical_composers.csv\", delimiter=\",\", encoding='latin1')\n",
    "\n",
    "df.columns"
   ]
  },
  {
   "cell_type": "code",
   "execution_count": 4,
   "metadata": {},
   "outputs": [
    {
     "data": {
      "text/plain": [
       "<bound method NDFrame.tail of                      Composer   Nationality     Born    Died  \\\n",
       "0                         NaN            NaN     NaN     NaN   \n",
       "1        Ludwig van Beethoven      German     1770.0  1791.0   \n",
       "2    Wolfgang Amadeus Mozart        Austrian  1756.0  1791.0   \n",
       "3      Johann Sebastian Bach       German     1685.0  1750.0   \n",
       "4              Richard Wagner      German     1813.0  1883.0   \n",
       "..                        ...            ...     ...     ...   \n",
       "96            Manuel de Falla        Spanish  1876.0  1946.0   \n",
       "97       Hildegard von Bingen      German     1098.0  1179.0   \n",
       "98             Mikhail Glinka        Russian  1804.0  1857.0   \n",
       "99         Alexander Glazunov        Russian  1865.0  1936.0   \n",
       "100        Don Carlo Gesualdo        Italian  1566.0  1613.0   \n",
       "\n",
       "                                         Biggest Piece  \\\n",
       "0                                                  NaN   \n",
       "1                                    Symphony No. 9      \n",
       "2                                       Symphony No.41   \n",
       "3                                      Mass in B minor   \n",
       "4                              Der Ring des Nibelungen   \n",
       "..                                                 ...   \n",
       "96     El amor brujo, Noches en los jardines de España   \n",
       "97   Ordo Virtutum, Symphony of the Harmony of Cele...   \n",
       "98             A Life for the Tsar, Ruslan and Ludmila   \n",
       "99                         The Seasons, Symphony No. 5   \n",
       "100                   Madrigals, Tenebrae Responsories   \n",
       "\n",
       "     Duration of Biggest Piece(mins)  \n",
       "0                                NaN  \n",
       "1                               65.0  \n",
       "2                               33.0  \n",
       "3                              125.0  \n",
       "4                                NaN  \n",
       "..                               ...  \n",
       "96                              23.0  \n",
       "97                               NaN  \n",
       "98                               NaN  \n",
       "99                              35.0  \n",
       "100                              NaN  \n",
       "\n",
       "[101 rows x 6 columns]>"
      ]
     },
     "execution_count": 4,
     "metadata": {},
     "output_type": "execute_result"
    }
   ],
   "source": [
    "df.head"
   ]
  },
  {
   "cell_type": "code",
   "execution_count": 5,
   "metadata": {},
   "outputs": [
    {
     "data": {
      "text/plain": [
       "<bound method NDFrame.head of                      Composer   Nationality     Born    Died  \\\n",
       "1        Ludwig van Beethoven      German     1770.0  1791.0   \n",
       "2    Wolfgang Amadeus Mozart        Austrian  1756.0  1791.0   \n",
       "3      Johann Sebastian Bach       German     1685.0  1750.0   \n",
       "4              Richard Wagner      German     1813.0  1883.0   \n",
       "5               Joseph Haydn        Austrian  1732.0  1809.0   \n",
       "..                        ...            ...     ...     ...   \n",
       "96            Manuel de Falla        Spanish  1876.0  1946.0   \n",
       "97       Hildegard von Bingen      German     1098.0  1179.0   \n",
       "98             Mikhail Glinka        Russian  1804.0  1857.0   \n",
       "99         Alexander Glazunov        Russian  1865.0  1936.0   \n",
       "100        Don Carlo Gesualdo        Italian  1566.0  1613.0   \n",
       "\n",
       "                                         Biggest Piece  \\\n",
       "1                                    Symphony No. 9      \n",
       "2                                       Symphony No.41   \n",
       "3                                      Mass in B minor   \n",
       "4                              Der Ring des Nibelungen   \n",
       "5                                      Symphony No. 45   \n",
       "..                                                 ...   \n",
       "96     El amor brujo, Noches en los jardines de España   \n",
       "97   Ordo Virtutum, Symphony of the Harmony of Cele...   \n",
       "98             A Life for the Tsar, Ruslan and Ludmila   \n",
       "99                         The Seasons, Symphony No. 5   \n",
       "100                   Madrigals, Tenebrae Responsories   \n",
       "\n",
       "     Duration of Biggest Piece(mins)  \n",
       "1                               65.0  \n",
       "2                               33.0  \n",
       "3                              125.0  \n",
       "4                                NaN  \n",
       "5                               25.0  \n",
       "..                               ...  \n",
       "96                              23.0  \n",
       "97                               NaN  \n",
       "98                               NaN  \n",
       "99                              35.0  \n",
       "100                              NaN  \n",
       "\n",
       "[100 rows x 6 columns]>"
      ]
     },
     "execution_count": 5,
     "metadata": {},
     "output_type": "execute_result"
    }
   ],
   "source": [
    "df = df.drop(0, axis=0)\n",
    "df.head"
   ]
  },
  {
   "cell_type": "code",
   "execution_count": null,
   "metadata": {},
   "outputs": [
    {
     "ename": "KeyError",
     "evalue": "'Nationality'",
     "output_type": "error",
     "traceback": [
      "\u001b[1;31m---------------------------------------------------------------------------\u001b[0m",
      "\u001b[1;31mKeyError\u001b[0m                                  Traceback (most recent call last)",
      "File \u001b[1;32mc:\\Users\\tanri\\AppData\\Local\\Programs\\Python\\Python312\\Lib\\site-packages\\pandas\\core\\indexes\\base.py:3805\u001b[0m, in \u001b[0;36mIndex.get_loc\u001b[1;34m(self, key)\u001b[0m\n\u001b[0;32m   3804\u001b[0m \u001b[38;5;28;01mtry\u001b[39;00m:\n\u001b[1;32m-> 3805\u001b[0m     \u001b[38;5;28;01mreturn\u001b[39;00m \u001b[38;5;28;43mself\u001b[39;49m\u001b[38;5;241;43m.\u001b[39;49m\u001b[43m_engine\u001b[49m\u001b[38;5;241;43m.\u001b[39;49m\u001b[43mget_loc\u001b[49m\u001b[43m(\u001b[49m\u001b[43mcasted_key\u001b[49m\u001b[43m)\u001b[49m\n\u001b[0;32m   3806\u001b[0m \u001b[38;5;28;01mexcept\u001b[39;00m \u001b[38;5;167;01mKeyError\u001b[39;00m \u001b[38;5;28;01mas\u001b[39;00m err:\n",
      "File \u001b[1;32mindex.pyx:167\u001b[0m, in \u001b[0;36mpandas._libs.index.IndexEngine.get_loc\u001b[1;34m()\u001b[0m\n",
      "File \u001b[1;32mindex.pyx:196\u001b[0m, in \u001b[0;36mpandas._libs.index.IndexEngine.get_loc\u001b[1;34m()\u001b[0m\n",
      "File \u001b[1;32mpandas\\\\_libs\\\\hashtable_class_helper.pxi:7081\u001b[0m, in \u001b[0;36mpandas._libs.hashtable.PyObjectHashTable.get_item\u001b[1;34m()\u001b[0m\n",
      "File \u001b[1;32mpandas\\\\_libs\\\\hashtable_class_helper.pxi:7089\u001b[0m, in \u001b[0;36mpandas._libs.hashtable.PyObjectHashTable.get_item\u001b[1;34m()\u001b[0m\n",
      "\u001b[1;31mKeyError\u001b[0m: 'Nationality'",
      "\nThe above exception was the direct cause of the following exception:\n",
      "\u001b[1;31mKeyError\u001b[0m                                  Traceback (most recent call last)",
      "Cell \u001b[1;32mIn[7], line 1\u001b[0m\n\u001b[1;32m----> 1\u001b[0m \u001b[43mdf\u001b[49m\u001b[43m[\u001b[49m\u001b[38;5;124;43m'\u001b[39;49m\u001b[38;5;124;43mNationality\u001b[39;49m\u001b[38;5;124;43m'\u001b[39;49m\u001b[43m]\u001b[49m\u001b[38;5;241m.\u001b[39mvalue_counts()\n",
      "File \u001b[1;32mc:\\Users\\tanri\\AppData\\Local\\Programs\\Python\\Python312\\Lib\\site-packages\\pandas\\core\\frame.py:4102\u001b[0m, in \u001b[0;36mDataFrame.__getitem__\u001b[1;34m(self, key)\u001b[0m\n\u001b[0;32m   4100\u001b[0m \u001b[38;5;28;01mif\u001b[39;00m \u001b[38;5;28mself\u001b[39m\u001b[38;5;241m.\u001b[39mcolumns\u001b[38;5;241m.\u001b[39mnlevels \u001b[38;5;241m>\u001b[39m \u001b[38;5;241m1\u001b[39m:\n\u001b[0;32m   4101\u001b[0m     \u001b[38;5;28;01mreturn\u001b[39;00m \u001b[38;5;28mself\u001b[39m\u001b[38;5;241m.\u001b[39m_getitem_multilevel(key)\n\u001b[1;32m-> 4102\u001b[0m indexer \u001b[38;5;241m=\u001b[39m \u001b[38;5;28;43mself\u001b[39;49m\u001b[38;5;241;43m.\u001b[39;49m\u001b[43mcolumns\u001b[49m\u001b[38;5;241;43m.\u001b[39;49m\u001b[43mget_loc\u001b[49m\u001b[43m(\u001b[49m\u001b[43mkey\u001b[49m\u001b[43m)\u001b[49m\n\u001b[0;32m   4103\u001b[0m \u001b[38;5;28;01mif\u001b[39;00m is_integer(indexer):\n\u001b[0;32m   4104\u001b[0m     indexer \u001b[38;5;241m=\u001b[39m [indexer]\n",
      "File \u001b[1;32mc:\\Users\\tanri\\AppData\\Local\\Programs\\Python\\Python312\\Lib\\site-packages\\pandas\\core\\indexes\\base.py:3812\u001b[0m, in \u001b[0;36mIndex.get_loc\u001b[1;34m(self, key)\u001b[0m\n\u001b[0;32m   3807\u001b[0m     \u001b[38;5;28;01mif\u001b[39;00m \u001b[38;5;28misinstance\u001b[39m(casted_key, \u001b[38;5;28mslice\u001b[39m) \u001b[38;5;129;01mor\u001b[39;00m (\n\u001b[0;32m   3808\u001b[0m         \u001b[38;5;28misinstance\u001b[39m(casted_key, abc\u001b[38;5;241m.\u001b[39mIterable)\n\u001b[0;32m   3809\u001b[0m         \u001b[38;5;129;01mand\u001b[39;00m \u001b[38;5;28many\u001b[39m(\u001b[38;5;28misinstance\u001b[39m(x, \u001b[38;5;28mslice\u001b[39m) \u001b[38;5;28;01mfor\u001b[39;00m x \u001b[38;5;129;01min\u001b[39;00m casted_key)\n\u001b[0;32m   3810\u001b[0m     ):\n\u001b[0;32m   3811\u001b[0m         \u001b[38;5;28;01mraise\u001b[39;00m InvalidIndexError(key)\n\u001b[1;32m-> 3812\u001b[0m     \u001b[38;5;28;01mraise\u001b[39;00m \u001b[38;5;167;01mKeyError\u001b[39;00m(key) \u001b[38;5;28;01mfrom\u001b[39;00m \u001b[38;5;21;01merr\u001b[39;00m\n\u001b[0;32m   3813\u001b[0m \u001b[38;5;28;01mexcept\u001b[39;00m \u001b[38;5;167;01mTypeError\u001b[39;00m:\n\u001b[0;32m   3814\u001b[0m     \u001b[38;5;66;03m# If we have a listlike key, _check_indexing_error will raise\u001b[39;00m\n\u001b[0;32m   3815\u001b[0m     \u001b[38;5;66;03m#  InvalidIndexError. Otherwise we fall through and re-raise\u001b[39;00m\n\u001b[0;32m   3816\u001b[0m     \u001b[38;5;66;03m#  the TypeError.\u001b[39;00m\n\u001b[0;32m   3817\u001b[0m     \u001b[38;5;28mself\u001b[39m\u001b[38;5;241m.\u001b[39m_check_indexing_error(key)\n",
      "\u001b[1;31mKeyError\u001b[0m: 'Nationality'"
     ]
    }
   ],
   "source": [
    "df['Nationality'].value_counts()\n"
   ]
  },
  {
   "cell_type": "markdown",
   "metadata": {},
   "source": [
    "## 第11回\n",
    "\n",
    "使用した楽器のデータセットもあったのでそれを使用する\n",
    "\n",
    "Christof Weiß, Matthias Mauch, Simon Dixon, and Meinard Müller\n",
    "Investigating Style Evolution of Western Classical Music: A Computational Approach\n",
    "Musicae Scientiae, 23(4): 486–507, 2019."
   ]
  },
  {
   "cell_type": "code",
   "execution_count": null,
   "metadata": {},
   "outputs": [],
   "source": []
  }
 ],
 "metadata": {
  "kernelspec": {
   "display_name": "env",
   "language": "python",
   "name": "python3"
  },
  "language_info": {
   "codemirror_mode": {
    "name": "ipython",
    "version": 3
   },
   "file_extension": ".py",
   "mimetype": "text/x-python",
   "name": "python",
   "nbconvert_exporter": "python",
   "pygments_lexer": "ipython3",
   "version": "3.12.2"
  }
 },
 "nbformat": 4,
 "nbformat_minor": 2
}
