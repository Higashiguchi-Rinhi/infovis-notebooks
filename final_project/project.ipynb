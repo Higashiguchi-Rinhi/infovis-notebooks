{
 "cells": [
  {
   "cell_type": "markdown",
   "metadata": {},
   "source": [
    "# 最終課題\n",
    "\n",
    "最終発表：10分程度／人（発表5分、ディスカッション5分）\n",
    "発表資料：A4数枚に以下の内容をまとめ、発表後に提出してください\n",
    "答えたい問い\n",
    "データの概要、取得と前処理の方法\n",
    "データ変数と視覚変数の対応関係\n",
    "可視化作品と考察\n",
    "コードかコードへのリンク（あれば）\n"
   ]
  },
  {
   "cell_type": "markdown",
   "metadata": {},
   "source": [
    "## 第10回\n",
    "どのような主題にするか？\\\n",
    "・クラシック音楽\n",
    "\n",
    "どこでデータを入手するか？\\\n",
    "・オープンデータを使う\n",
    "\n",
    "どのような問いを設定する？\\\n",
    "・有名な作曲家の国籍と曲の長さの関係に興味があります\\\n",
    "・流派や時代が曲の長さに影響するかもしれないと考える\n"
   ]
  },
  {
   "cell_type": "markdown",
   "metadata": {},
   "source": [
    "### データセット\n",
    "\n",
    "https://www.kaggle.com/datasets/tarunrm09/top-classical-composers?resource=download\n",
    "から取得\n",
    "\n",
    "This dataset contains a comprehensive list of the most famous classical composers. The dataset provides insights into the composers details such as their best piece and the duration of that piece. The dataset includes information such as composers name, nationality, birth year, death year , their most famous works, and the duration of their famous piece."
   ]
  },
  {
   "cell_type": "code",
   "execution_count": 7,
   "metadata": {},
   "outputs": [
    {
     "data": {
      "text/plain": [
       "Index(['Composer', '  Nationality ', ' Born', 'Died', 'Biggest Piece',\n",
       "       'Duration of Biggest Piece(mins)'],\n",
       "      dtype='object')"
      ]
     },
     "execution_count": 7,
     "metadata": {},
     "output_type": "execute_result"
    }
   ],
   "source": [
    "import pandas as pd\n",
    "\n",
    "df = pd.read_csv(\"classical_composers.csv\", delimiter=\",\", encoding='latin1')\n",
    "\n",
    "df.columns"
   ]
  }
 ],
 "metadata": {
  "kernelspec": {
   "display_name": "Python 3",
   "language": "python",
   "name": "python3"
  },
  "language_info": {
   "codemirror_mode": {
    "name": "ipython",
    "version": 3
   },
   "file_extension": ".py",
   "mimetype": "text/x-python",
   "name": "python",
   "nbconvert_exporter": "python",
   "pygments_lexer": "ipython3",
   "version": "3.12.0"
  }
 },
 "nbformat": 4,
 "nbformat_minor": 2
}
