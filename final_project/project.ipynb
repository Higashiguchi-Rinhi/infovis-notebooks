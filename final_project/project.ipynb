{
 "cells": [
  {
   "cell_type": "markdown",
   "metadata": {},
   "source": [
    "# 最終課題\n",
    "\n",
    "最終発表：10分程度／人（発表5分、ディスカッション5分）\n",
    "発表資料：A4数枚に以下の内容をまとめ、発表後に提出してください\n",
    "答えたい問い\n",
    "データの概要、取得と前処理の方法\n",
    "データ変数と視覚変数の対応関係\n",
    "可視化作品と考察\n",
    "コードかコードへのリンク（あれば）\n"
   ]
  },
  {
   "cell_type": "markdown",
   "metadata": {},
   "source": [
    "## 第10回\n",
    "どのような主題にするか？\\\n",
    "・クラシック音楽\n",
    "\n",
    "どこでデータを入手するか？\\\n",
    "・オープンデータを使う\n",
    "\n",
    "どのような問いを設定する？\\\n",
    "・音自体がどこに行くのか、1,2,5音とか\n",
    "・有名な作曲家の国籍と曲の長さの関係に興味があります\\\n",
    "・流派や時代が曲の長さに影響するかもしれないと考える\n",
    "・"
   ]
  },
  {
   "cell_type": "markdown",
   "metadata": {},
   "source": [
    "### データセット\n",
    "\n",
    "https://www.kaggle.com/datasets/tarunrm09/top-classical-composers?resource=download\n",
    "から取得\n",
    "\n",
    "This dataset contains a comprehensive list of the most famous classical composers. The dataset provides insights into the composers details such as their best piece and the duration of that piece. The dataset includes information such as composers name, nationality, birth year, death year , their most famous works, and the duration of their famous piece."
   ]
  },
  {
   "cell_type": "code",
   "execution_count": 9,
   "metadata": {},
   "outputs": [
    {
     "name": "stdout",
     "output_type": "stream",
     "text": [
      "Collecting altair\n",
      "  Downloading altair-5.5.0-py3-none-any.whl (731 kB)\n",
      "     -------------------------------------- 731.2/731.2 KB 6.6 MB/s eta 0:00:00\n",
      "Requirement already satisfied: typing-extensions>=4.10.0 in c:\\users\\tanri\\infovis\\infovis-notebooks\\.venv\\lib\\site-packages (from altair) (4.12.2)\n",
      "Collecting jsonschema>=3.0\n",
      "  Using cached jsonschema-4.23.0-py3-none-any.whl (88 kB)\n",
      "Requirement already satisfied: packaging in c:\\users\\tanri\\infovis\\infovis-notebooks\\.venv\\lib\\site-packages (from altair) (24.2)\n",
      "Requirement already satisfied: jinja2 in c:\\users\\tanri\\infovis\\infovis-notebooks\\.venv\\lib\\site-packages (from altair) (3.1.4)\n",
      "Collecting narwhals>=1.14.2\n",
      "  Downloading narwhals-1.19.1-py3-none-any.whl (260 kB)\n",
      "     ------------------------------------- 260.6/260.6 KB 16.7 MB/s eta 0:00:00\n",
      "Collecting attrs>=22.2.0\n",
      "  Downloading attrs-24.3.0-py3-none-any.whl (63 kB)\n",
      "     ---------------------------------------- 63.4/63.4 KB 3.5 MB/s eta 0:00:00\n",
      "Collecting referencing>=0.28.4\n",
      "  Using cached referencing-0.35.1-py3-none-any.whl (26 kB)\n",
      "Collecting jsonschema-specifications>=2023.03.6\n",
      "  Using cached jsonschema_specifications-2024.10.1-py3-none-any.whl (18 kB)\n",
      "Collecting rpds-py>=0.7.1\n",
      "  Downloading rpds_py-0.22.3-cp310-cp310-win_amd64.whl (231 kB)\n",
      "     ------------------------------------- 231.7/231.7 KB 13.8 MB/s eta 0:00:00\n",
      "Requirement already satisfied: MarkupSafe>=2.0 in c:\\users\\tanri\\infovis\\infovis-notebooks\\.venv\\lib\\site-packages (from jinja2->altair) (3.0.2)\n",
      "Installing collected packages: rpds-py, narwhals, attrs, referencing, jsonschema-specifications, jsonschema, altair\n",
      "Successfully installed altair-5.5.0 attrs-24.3.0 jsonschema-4.23.0 jsonschema-specifications-2024.10.1 narwhals-1.19.1 referencing-0.35.1 rpds-py-0.22.3\n"
     ]
    },
    {
     "name": "stderr",
     "output_type": "stream",
     "text": [
      "WARNING: You are using pip version 22.0.4; however, version 24.3.1 is available.\n",
      "You should consider upgrading via the 'C:\\Users\\tanri\\infovis\\infovis-notebooks\\.venv\\Scripts\\python.exe -m pip install --upgrade pip' command.\n"
     ]
    }
   ],
   "source": [
    "# !pip install plotly\n",
    "# !pip install pandas\n",
    "!pip install altair\n"
   ]
  },
  {
   "cell_type": "code",
   "execution_count": 10,
   "metadata": {},
   "outputs": [
    {
     "data": {
      "text/plain": [
       "Index(['Composer', '  Nationality ', ' Born', 'Died', 'Biggest Piece',\n",
       "       'Duration of Biggest Piece(mins)'],\n",
       "      dtype='object')"
      ]
     },
     "execution_count": 10,
     "metadata": {},
     "output_type": "execute_result"
    }
   ],
   "source": [
    "import pandas as pd\n",
    "df = pd.read_csv(\"classical_composers.csv\", delimiter=\",\", encoding='latin1')\n",
    "\n",
    "df.columns"
   ]
  },
  {
   "cell_type": "code",
   "execution_count": 2,
   "metadata": {},
   "outputs": [
    {
     "data": {
      "text/plain": [
       "<bound method NDFrame.head of                      Composer   Nationality     Born    Died  \\\n",
       "0                         NaN            NaN     NaN     NaN   \n",
       "1        Ludwig van Beethoven      German     1770.0  1791.0   \n",
       "2    Wolfgang Amadeus Mozart        Austrian  1756.0  1791.0   \n",
       "3      Johann Sebastian Bach       German     1685.0  1750.0   \n",
       "4              Richard Wagner      German     1813.0  1883.0   \n",
       "..                        ...            ...     ...     ...   \n",
       "96            Manuel de Falla        Spanish  1876.0  1946.0   \n",
       "97       Hildegard von Bingen      German     1098.0  1179.0   \n",
       "98             Mikhail Glinka        Russian  1804.0  1857.0   \n",
       "99         Alexander Glazunov        Russian  1865.0  1936.0   \n",
       "100        Don Carlo Gesualdo        Italian  1566.0  1613.0   \n",
       "\n",
       "                                         Biggest Piece  \\\n",
       "0                                                  NaN   \n",
       "1                                    Symphony No. 9      \n",
       "2                                       Symphony No.41   \n",
       "3                                      Mass in B minor   \n",
       "4                              Der Ring des Nibelungen   \n",
       "..                                                 ...   \n",
       "96     El amor brujo, Noches en los jardines de España   \n",
       "97   Ordo Virtutum, Symphony of the Harmony of Cele...   \n",
       "98             A Life for the Tsar, Ruslan and Ludmila   \n",
       "99                         The Seasons, Symphony No. 5   \n",
       "100                   Madrigals, Tenebrae Responsories   \n",
       "\n",
       "     Duration of Biggest Piece(mins)  \n",
       "0                                NaN  \n",
       "1                               65.0  \n",
       "2                               33.0  \n",
       "3                              125.0  \n",
       "4                                NaN  \n",
       "..                               ...  \n",
       "96                              23.0  \n",
       "97                               NaN  \n",
       "98                               NaN  \n",
       "99                              35.0  \n",
       "100                              NaN  \n",
       "\n",
       "[101 rows x 6 columns]>"
      ]
     },
     "execution_count": 2,
     "metadata": {},
     "output_type": "execute_result"
    }
   ],
   "source": [
    "df.head"
   ]
  },
  {
   "cell_type": "code",
   "execution_count": 3,
   "metadata": {},
   "outputs": [
    {
     "data": {
      "text/plain": [
       "<bound method NDFrame.head of                      Composer   Nationality     Born    Died  \\\n",
       "1        Ludwig van Beethoven      German     1770.0  1791.0   \n",
       "2    Wolfgang Amadeus Mozart        Austrian  1756.0  1791.0   \n",
       "3      Johann Sebastian Bach       German     1685.0  1750.0   \n",
       "4              Richard Wagner      German     1813.0  1883.0   \n",
       "5               Joseph Haydn        Austrian  1732.0  1809.0   \n",
       "..                        ...            ...     ...     ...   \n",
       "96            Manuel de Falla        Spanish  1876.0  1946.0   \n",
       "97       Hildegard von Bingen      German     1098.0  1179.0   \n",
       "98             Mikhail Glinka        Russian  1804.0  1857.0   \n",
       "99         Alexander Glazunov        Russian  1865.0  1936.0   \n",
       "100        Don Carlo Gesualdo        Italian  1566.0  1613.0   \n",
       "\n",
       "                                         Biggest Piece  \\\n",
       "1                                    Symphony No. 9      \n",
       "2                                       Symphony No.41   \n",
       "3                                      Mass in B minor   \n",
       "4                              Der Ring des Nibelungen   \n",
       "5                                      Symphony No. 45   \n",
       "..                                                 ...   \n",
       "96     El amor brujo, Noches en los jardines de España   \n",
       "97   Ordo Virtutum, Symphony of the Harmony of Cele...   \n",
       "98             A Life for the Tsar, Ruslan and Ludmila   \n",
       "99                         The Seasons, Symphony No. 5   \n",
       "100                   Madrigals, Tenebrae Responsories   \n",
       "\n",
       "     Duration of Biggest Piece(mins)  \n",
       "1                               65.0  \n",
       "2                               33.0  \n",
       "3                              125.0  \n",
       "4                                NaN  \n",
       "5                               25.0  \n",
       "..                               ...  \n",
       "96                              23.0  \n",
       "97                               NaN  \n",
       "98                               NaN  \n",
       "99                              35.0  \n",
       "100                              NaN  \n",
       "\n",
       "[100 rows x 6 columns]>"
      ]
     },
     "execution_count": 3,
     "metadata": {},
     "output_type": "execute_result"
    }
   ],
   "source": [
    "df = df.drop(0, axis=0)\n",
    "df.head"
   ]
  },
  {
   "cell_type": "code",
   "execution_count": 11,
   "metadata": {},
   "outputs": [
    {
     "ename": "KeyError",
     "evalue": "'Nationality'",
     "output_type": "error",
     "traceback": [
      "\u001b[1;31m---------------------------------------------------------------------------\u001b[0m",
      "\u001b[1;31mKeyError\u001b[0m                                  Traceback (most recent call last)",
      "File \u001b[1;32mc:\\Users\\tanri\\infovis\\infovis-notebooks\\.venv\\lib\\site-packages\\pandas\\core\\indexes\\base.py:3805\u001b[0m, in \u001b[0;36mIndex.get_loc\u001b[1;34m(self, key)\u001b[0m\n\u001b[0;32m   3804\u001b[0m \u001b[38;5;28;01mtry\u001b[39;00m:\n\u001b[1;32m-> 3805\u001b[0m     \u001b[38;5;28;01mreturn\u001b[39;00m \u001b[38;5;28;43mself\u001b[39;49m\u001b[38;5;241;43m.\u001b[39;49m\u001b[43m_engine\u001b[49m\u001b[38;5;241;43m.\u001b[39;49m\u001b[43mget_loc\u001b[49m\u001b[43m(\u001b[49m\u001b[43mcasted_key\u001b[49m\u001b[43m)\u001b[49m\n\u001b[0;32m   3806\u001b[0m \u001b[38;5;28;01mexcept\u001b[39;00m \u001b[38;5;167;01mKeyError\u001b[39;00m \u001b[38;5;28;01mas\u001b[39;00m err:\n",
      "File \u001b[1;32mindex.pyx:167\u001b[0m, in \u001b[0;36mpandas._libs.index.IndexEngine.get_loc\u001b[1;34m()\u001b[0m\n",
      "File \u001b[1;32mindex.pyx:196\u001b[0m, in \u001b[0;36mpandas._libs.index.IndexEngine.get_loc\u001b[1;34m()\u001b[0m\n",
      "File \u001b[1;32mpandas\\\\_libs\\\\hashtable_class_helper.pxi:7081\u001b[0m, in \u001b[0;36mpandas._libs.hashtable.PyObjectHashTable.get_item\u001b[1;34m()\u001b[0m\n",
      "File \u001b[1;32mpandas\\\\_libs\\\\hashtable_class_helper.pxi:7089\u001b[0m, in \u001b[0;36mpandas._libs.hashtable.PyObjectHashTable.get_item\u001b[1;34m()\u001b[0m\n",
      "\u001b[1;31mKeyError\u001b[0m: 'Nationality'",
      "\nThe above exception was the direct cause of the following exception:\n",
      "\u001b[1;31mKeyError\u001b[0m                                  Traceback (most recent call last)",
      "Cell \u001b[1;32mIn[11], line 1\u001b[0m\n\u001b[1;32m----> 1\u001b[0m \u001b[43mdf\u001b[49m\u001b[43m[\u001b[49m\u001b[38;5;124;43m'\u001b[39;49m\u001b[38;5;124;43mNationality\u001b[39;49m\u001b[38;5;124;43m'\u001b[39;49m\u001b[43m]\u001b[49m\n",
      "File \u001b[1;32mc:\\Users\\tanri\\infovis\\infovis-notebooks\\.venv\\lib\\site-packages\\pandas\\core\\frame.py:4102\u001b[0m, in \u001b[0;36mDataFrame.__getitem__\u001b[1;34m(self, key)\u001b[0m\n\u001b[0;32m   4100\u001b[0m \u001b[38;5;28;01mif\u001b[39;00m \u001b[38;5;28mself\u001b[39m\u001b[38;5;241m.\u001b[39mcolumns\u001b[38;5;241m.\u001b[39mnlevels \u001b[38;5;241m>\u001b[39m \u001b[38;5;241m1\u001b[39m:\n\u001b[0;32m   4101\u001b[0m     \u001b[38;5;28;01mreturn\u001b[39;00m \u001b[38;5;28mself\u001b[39m\u001b[38;5;241m.\u001b[39m_getitem_multilevel(key)\n\u001b[1;32m-> 4102\u001b[0m indexer \u001b[38;5;241m=\u001b[39m \u001b[38;5;28;43mself\u001b[39;49m\u001b[38;5;241;43m.\u001b[39;49m\u001b[43mcolumns\u001b[49m\u001b[38;5;241;43m.\u001b[39;49m\u001b[43mget_loc\u001b[49m\u001b[43m(\u001b[49m\u001b[43mkey\u001b[49m\u001b[43m)\u001b[49m\n\u001b[0;32m   4103\u001b[0m \u001b[38;5;28;01mif\u001b[39;00m is_integer(indexer):\n\u001b[0;32m   4104\u001b[0m     indexer \u001b[38;5;241m=\u001b[39m [indexer]\n",
      "File \u001b[1;32mc:\\Users\\tanri\\infovis\\infovis-notebooks\\.venv\\lib\\site-packages\\pandas\\core\\indexes\\base.py:3812\u001b[0m, in \u001b[0;36mIndex.get_loc\u001b[1;34m(self, key)\u001b[0m\n\u001b[0;32m   3807\u001b[0m     \u001b[38;5;28;01mif\u001b[39;00m \u001b[38;5;28misinstance\u001b[39m(casted_key, \u001b[38;5;28mslice\u001b[39m) \u001b[38;5;129;01mor\u001b[39;00m (\n\u001b[0;32m   3808\u001b[0m         \u001b[38;5;28misinstance\u001b[39m(casted_key, abc\u001b[38;5;241m.\u001b[39mIterable)\n\u001b[0;32m   3809\u001b[0m         \u001b[38;5;129;01mand\u001b[39;00m \u001b[38;5;28many\u001b[39m(\u001b[38;5;28misinstance\u001b[39m(x, \u001b[38;5;28mslice\u001b[39m) \u001b[38;5;28;01mfor\u001b[39;00m x \u001b[38;5;129;01min\u001b[39;00m casted_key)\n\u001b[0;32m   3810\u001b[0m     ):\n\u001b[0;32m   3811\u001b[0m         \u001b[38;5;28;01mraise\u001b[39;00m InvalidIndexError(key)\n\u001b[1;32m-> 3812\u001b[0m     \u001b[38;5;28;01mraise\u001b[39;00m \u001b[38;5;167;01mKeyError\u001b[39;00m(key) \u001b[38;5;28;01mfrom\u001b[39;00m \u001b[38;5;21;01merr\u001b[39;00m\n\u001b[0;32m   3813\u001b[0m \u001b[38;5;28;01mexcept\u001b[39;00m \u001b[38;5;167;01mTypeError\u001b[39;00m:\n\u001b[0;32m   3814\u001b[0m     \u001b[38;5;66;03m# If we have a listlike key, _check_indexing_error will raise\u001b[39;00m\n\u001b[0;32m   3815\u001b[0m     \u001b[38;5;66;03m#  InvalidIndexError. Otherwise we fall through and re-raise\u001b[39;00m\n\u001b[0;32m   3816\u001b[0m     \u001b[38;5;66;03m#  the TypeError.\u001b[39;00m\n\u001b[0;32m   3817\u001b[0m     \u001b[38;5;28mself\u001b[39m\u001b[38;5;241m.\u001b[39m_check_indexing_error(key)\n",
      "\u001b[1;31mKeyError\u001b[0m: 'Nationality'"
     ]
    }
   ],
   "source": [
    "df['Nationality']"
   ]
  },
  {
   "cell_type": "markdown",
   "metadata": {},
   "source": [
    "## 第11回\n",
    "\n",
    "使用した楽器のデータセットもあったのでそれを使用する\n",
    "\n",
    "Christof Weiß, Matthias Mauch, Simon Dixon, and Meinard Müller\n",
    "Investigating Style Evolution of Western Classical Music: A Computational Approach\n",
    "Musicae Scientiae, 23(4): 486–507, 2019."
   ]
  },
  {
   "cell_type": "code",
   "execution_count": null,
   "metadata": {},
   "outputs": [],
   "source": [
    "# https://www.kaggle.com/datasets/imsparsh/musicnet-dataset/data\n",
    "# https://www.kaggle.com/code/smogomes/music-generation-based-on-classics"
   ]
  },
  {
   "cell_type": "markdown",
   "metadata": {},
   "source": [
    "MusicNet is a collection of 330 freely-licensed classical music recordings, together with over 1 million annotated labels indicating the precise time of each note in every recording, the instrument that plays each note, and the note's position in the metrical structure of the composition. The labels are acquired from musical scores aligned to recordings by dynamic time warping. The labels are verified by trained musicians; a labeling error rate of 4% has been estimated. The MusicNet labels are offered to the machine learning and music communities as a resource for training models and a common benchmark for comparing results.\n",
    "\n",
    "https://www.kaggle.com/datasets/imsparsh/musicnet-dataset"
   ]
  },
  {
   "cell_type": "code",
   "execution_count": 12,
   "metadata": {},
   "outputs": [
    {
     "data": {
      "text/html": [
       "<div>\n",
       "<style scoped>\n",
       "    .dataframe tbody tr th:only-of-type {\n",
       "        vertical-align: middle;\n",
       "    }\n",
       "\n",
       "    .dataframe tbody tr th {\n",
       "        vertical-align: top;\n",
       "    }\n",
       "\n",
       "    .dataframe thead th {\n",
       "        text-align: right;\n",
       "    }\n",
       "</style>\n",
       "<table border=\"1\" class=\"dataframe\">\n",
       "  <thead>\n",
       "    <tr style=\"text-align: right;\">\n",
       "      <th></th>\n",
       "      <th>id</th>\n",
       "      <th>composer</th>\n",
       "      <th>composition</th>\n",
       "      <th>movement</th>\n",
       "      <th>ensemble</th>\n",
       "      <th>source</th>\n",
       "      <th>transcriber</th>\n",
       "      <th>catalog_name</th>\n",
       "      <th>seconds</th>\n",
       "    </tr>\n",
       "  </thead>\n",
       "  <tbody>\n",
       "    <tr>\n",
       "      <th>0</th>\n",
       "      <td>1727</td>\n",
       "      <td>Schubert</td>\n",
       "      <td>Piano Quintet in A major</td>\n",
       "      <td>2. Andante</td>\n",
       "      <td>Piano Quintet</td>\n",
       "      <td>European Archive</td>\n",
       "      <td>http://tirolmusic.blogspot.com/</td>\n",
       "      <td>OP114</td>\n",
       "      <td>447</td>\n",
       "    </tr>\n",
       "    <tr>\n",
       "      <th>1</th>\n",
       "      <td>1728</td>\n",
       "      <td>Schubert</td>\n",
       "      <td>Piano Quintet in A major</td>\n",
       "      <td>3. Scherzo: Presto</td>\n",
       "      <td>Piano Quintet</td>\n",
       "      <td>European Archive</td>\n",
       "      <td>http://tirolmusic.blogspot.com/</td>\n",
       "      <td>OP114</td>\n",
       "      <td>251</td>\n",
       "    </tr>\n",
       "    <tr>\n",
       "      <th>2</th>\n",
       "      <td>1729</td>\n",
       "      <td>Schubert</td>\n",
       "      <td>Piano Quintet in A major</td>\n",
       "      <td>4. Andantino - Allegretto</td>\n",
       "      <td>Piano Quintet</td>\n",
       "      <td>European Archive</td>\n",
       "      <td>http://tirolmusic.blogspot.com/</td>\n",
       "      <td>OP114</td>\n",
       "      <td>444</td>\n",
       "    </tr>\n",
       "    <tr>\n",
       "      <th>3</th>\n",
       "      <td>1730</td>\n",
       "      <td>Schubert</td>\n",
       "      <td>Piano Quintet in A major</td>\n",
       "      <td>5. Allegro giusto</td>\n",
       "      <td>Piano Quintet</td>\n",
       "      <td>European Archive</td>\n",
       "      <td>http://tirolmusic.blogspot.com/</td>\n",
       "      <td>OP114</td>\n",
       "      <td>368</td>\n",
       "    </tr>\n",
       "    <tr>\n",
       "      <th>4</th>\n",
       "      <td>1733</td>\n",
       "      <td>Schubert</td>\n",
       "      <td>Piano Sonata in A major</td>\n",
       "      <td>2. Andantino</td>\n",
       "      <td>Solo Piano</td>\n",
       "      <td>Museopen</td>\n",
       "      <td>Segundo G. Yogore</td>\n",
       "      <td>D959</td>\n",
       "      <td>546</td>\n",
       "    </tr>\n",
       "    <tr>\n",
       "      <th>...</th>\n",
       "      <td>...</td>\n",
       "      <td>...</td>\n",
       "      <td>...</td>\n",
       "      <td>...</td>\n",
       "      <td>...</td>\n",
       "      <td>...</td>\n",
       "      <td>...</td>\n",
       "      <td>...</td>\n",
       "      <td>...</td>\n",
       "    </tr>\n",
       "    <tr>\n",
       "      <th>325</th>\n",
       "      <td>2632</td>\n",
       "      <td>Beethoven</td>\n",
       "      <td>Piano Sonata No 10 in G major</td>\n",
       "      <td>2. Andante</td>\n",
       "      <td>Solo Piano</td>\n",
       "      <td>Paul Pitman</td>\n",
       "      <td>piano-midi.de</td>\n",
       "      <td>OP14NO2</td>\n",
       "      <td>341</td>\n",
       "    </tr>\n",
       "    <tr>\n",
       "      <th>326</th>\n",
       "      <td>2633</td>\n",
       "      <td>Beethoven</td>\n",
       "      <td>Piano Sonata No 10 in G major</td>\n",
       "      <td>3. Scherzo: Allegro assai</td>\n",
       "      <td>Solo Piano</td>\n",
       "      <td>Paul Pitman</td>\n",
       "      <td>piano-midi.de</td>\n",
       "      <td>OP14NO2</td>\n",
       "      <td>227</td>\n",
       "    </tr>\n",
       "    <tr>\n",
       "      <th>327</th>\n",
       "      <td>2659</td>\n",
       "      <td>Bach</td>\n",
       "      <td>Violin Partita No 1 in B minor</td>\n",
       "      <td>6. Double</td>\n",
       "      <td>Solo Violin</td>\n",
       "      <td>John Garner</td>\n",
       "      <td>suzumidi</td>\n",
       "      <td>BWV1002</td>\n",
       "      <td>108</td>\n",
       "    </tr>\n",
       "    <tr>\n",
       "      <th>328</th>\n",
       "      <td>2677</td>\n",
       "      <td>Beethoven</td>\n",
       "      <td>Piano Sonata No 9 in E major</td>\n",
       "      <td>1. Allegro</td>\n",
       "      <td>Solo Piano</td>\n",
       "      <td>Paul Pitman</td>\n",
       "      <td>piano-midi.de</td>\n",
       "      <td>OP14NO1</td>\n",
       "      <td>445</td>\n",
       "    </tr>\n",
       "    <tr>\n",
       "      <th>329</th>\n",
       "      <td>2678</td>\n",
       "      <td>Beethoven</td>\n",
       "      <td>Piano Sonata No 10 in G major</td>\n",
       "      <td>1. Allegro</td>\n",
       "      <td>Solo Piano</td>\n",
       "      <td>Paul Pitman</td>\n",
       "      <td>piano-midi.de</td>\n",
       "      <td>OP14NO2</td>\n",
       "      <td>472</td>\n",
       "    </tr>\n",
       "  </tbody>\n",
       "</table>\n",
       "<p>330 rows × 9 columns</p>\n",
       "</div>"
      ],
      "text/plain": [
       "       id   composer                     composition  \\\n",
       "0    1727   Schubert        Piano Quintet in A major   \n",
       "1    1728   Schubert        Piano Quintet in A major   \n",
       "2    1729   Schubert        Piano Quintet in A major   \n",
       "3    1730   Schubert        Piano Quintet in A major   \n",
       "4    1733   Schubert         Piano Sonata in A major   \n",
       "..    ...        ...                             ...   \n",
       "325  2632  Beethoven   Piano Sonata No 10 in G major   \n",
       "326  2633  Beethoven   Piano Sonata No 10 in G major   \n",
       "327  2659       Bach  Violin Partita No 1 in B minor   \n",
       "328  2677  Beethoven    Piano Sonata No 9 in E major   \n",
       "329  2678  Beethoven   Piano Sonata No 10 in G major   \n",
       "\n",
       "                      movement       ensemble            source  \\\n",
       "0                   2. Andante  Piano Quintet  European Archive   \n",
       "1           3. Scherzo: Presto  Piano Quintet  European Archive   \n",
       "2    4. Andantino - Allegretto  Piano Quintet  European Archive   \n",
       "3            5. Allegro giusto  Piano Quintet  European Archive   \n",
       "4                 2. Andantino     Solo Piano          Museopen   \n",
       "..                         ...            ...               ...   \n",
       "325                 2. Andante     Solo Piano       Paul Pitman   \n",
       "326  3. Scherzo: Allegro assai     Solo Piano       Paul Pitman   \n",
       "327                  6. Double    Solo Violin       John Garner   \n",
       "328                 1. Allegro     Solo Piano       Paul Pitman   \n",
       "329                 1. Allegro     Solo Piano       Paul Pitman   \n",
       "\n",
       "                         transcriber catalog_name  seconds  \n",
       "0    http://tirolmusic.blogspot.com/        OP114      447  \n",
       "1    http://tirolmusic.blogspot.com/        OP114      251  \n",
       "2    http://tirolmusic.blogspot.com/        OP114      444  \n",
       "3    http://tirolmusic.blogspot.com/        OP114      368  \n",
       "4                  Segundo G. Yogore         D959      546  \n",
       "..                               ...          ...      ...  \n",
       "325                    piano-midi.de      OP14NO2      341  \n",
       "326                    piano-midi.de      OP14NO2      227  \n",
       "327                         suzumidi      BWV1002      108  \n",
       "328                    piano-midi.de      OP14NO1      445  \n",
       "329                    piano-midi.de      OP14NO2      472  \n",
       "\n",
       "[330 rows x 9 columns]"
      ]
     },
     "execution_count": 12,
     "metadata": {},
     "output_type": "execute_result"
    }
   ],
   "source": [
    "df2= pd.read_csv(\"MusicNet/musicnet_metadata.csv\")"
   ]
  }
 ],
 "metadata": {
  "kernelspec": {
   "display_name": ".venv",
   "language": "python",
   "name": "python3"
  },
  "language_info": {
   "codemirror_mode": {
    "name": "ipython",
    "version": 3
   },
   "file_extension": ".py",
   "mimetype": "text/x-python",
   "name": "python",
   "nbconvert_exporter": "python",
   "pygments_lexer": "ipython3",
   "version": "3.10.5"
  }
 },
 "nbformat": 4,
 "nbformat_minor": 2
}
