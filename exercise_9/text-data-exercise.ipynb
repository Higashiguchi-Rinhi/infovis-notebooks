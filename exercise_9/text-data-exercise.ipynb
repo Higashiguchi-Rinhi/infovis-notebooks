{
 "cells": [
  {
   "cell_type": "markdown",
   "id": "f3ef3f1e",
   "metadata": {},
   "source": [
    "# テキストデータの可視化の練習"
   ]
  },
  {
   "cell_type": "markdown",
   "id": "8261732d",
   "metadata": {},
   "source": [
    "『三四郎』は、夏目漱石の前記三部作と呼ばれる作品群の一部です。\n",
    "\n",
    "[『三四郎』](https://www.aozora.gr.jp/cards/000148/card794.html)（1909）・[『それから』](https://www.aozora.gr.jp/cards/000148/card1746.html)（1909）・[『門』](https://www.aozora.gr.jp/cards/000148/card785.html)（1910）の三部作を一つのコーパスとしてまとめて分析してみましょう。\n",
    "\n",
    "『三四郎』だけの分析と比べると、どのような特徴が出てくるでしょうか？"
   ]
  },
  {
   "cell_type": "markdown",
   "id": "e0a12dcf",
   "metadata": {},
   "source": [
    "## データの用意"
   ]
  },
  {
   "cell_type": "code",
   "execution_count": 1,
   "id": "0f4004e2",
   "metadata": {},
   "outputs": [
    {
     "name": "stderr",
     "output_type": "stream",
     "text": [
      "'wget' is not recognized as an internal or external command,\n",
      "operable program or batch file.\n",
      "'wget' is not recognized as an internal or external command,\n",
      "operable program or batch file.\n",
      "'wget' is not recognized as an internal or external command,\n",
      "operable program or batch file.\n",
      "A subdirectory or file -p already exists.\n",
      "Error occurred while processing: -p.\n",
      "A subdirectory or file text already exists.\n",
      "Error occurred while processing: text.\n",
      "unzip:  cannot find or open 794_ruby_4237.zip, 794_ruby_4237.zip.zip or 794_ruby_4237.zip.ZIP.\n",
      "unzip:  cannot find or open 1746_ruby_18324.zip, 1746_ruby_18324.zip.zip or 1746_ruby_18324.zip.ZIP.\n",
      "unzip:  cannot find or open 785_ruby_1656.zip, 785_ruby_1656.zip.zip or 785_ruby_1656.zip.ZIP.\n"
     ]
    }
   ],
   "source": [
    "# ファイルをダウンロードする\n",
    "!wget https://www.aozora.gr.jp/cards/000148/files/794_ruby_4237.zip\n",
    "!wget https://www.aozora.gr.jp/cards/000148/files/1746_ruby_18324.zip\n",
    "!wget https://www.aozora.gr.jp/cards/000148/files/785_ruby_1656.zip\n",
    "# textフォルダ作る\n",
    "!mkdir -p text\n",
    "# ファイルをtextフォルダに解凍\n",
    "!unzip -d text -o 794_ruby_4237.zip\n",
    "!unzip -d text -o 1746_ruby_18324.zip\n",
    "!unzip -d text -o 785_ruby_1656.zip"
   ]
  },
  {
   "cell_type": "code",
   "execution_count": 2,
   "id": "c4512e6d",
   "metadata": {},
   "outputs": [],
   "source": [
    "# 青空文庫の記法を削除する\n",
    "\n",
    "import re\n",
    "\n",
    "input_fn = \"text/sanshiro.txt\"\n",
    "output_fn = \"text/sanshiro.stripruby.txt\"\n",
    "\n",
    "with open(input_fn, encoding=\"shift_jis\") as fin, open(output_fn, mode=\"w\") as fout:\n",
    "    for line in fin:\n",
    "        fout.write(re.sub(r\"《[^》]+》|［[^］]+］|〔[^〕]+〕| [｜]\", \"\", line))"
   ]
  },
  {
   "cell_type": "code",
   "execution_count": 3,
   "id": "eb27b025",
   "metadata": {},
   "outputs": [
    {
     "ename": "FileNotFoundError",
     "evalue": "[Errno 2] No such file or directory: 'text/sorekara.txt'",
     "output_type": "error",
     "traceback": [
      "\u001b[1;31m---------------------------------------------------------------------------\u001b[0m",
      "\u001b[1;31mFileNotFoundError\u001b[0m                         Traceback (most recent call last)",
      "Cell \u001b[1;32mIn[3], line 4\u001b[0m\n\u001b[0;32m      1\u001b[0m input_fn \u001b[38;5;241m=\u001b[39m \u001b[38;5;124m\"\u001b[39m\u001b[38;5;124mtext/sorekara.txt\u001b[39m\u001b[38;5;124m\"\u001b[39m\n\u001b[0;32m      2\u001b[0m output_fn \u001b[38;5;241m=\u001b[39m \u001b[38;5;124m\"\u001b[39m\u001b[38;5;124mtext/sorekara.stripruby.txt\u001b[39m\u001b[38;5;124m\"\u001b[39m\n\u001b[1;32m----> 4\u001b[0m \u001b[38;5;28;01mwith\u001b[39;00m \u001b[38;5;28;43mopen\u001b[39;49m\u001b[43m(\u001b[49m\u001b[43minput_fn\u001b[49m\u001b[43m,\u001b[49m\u001b[43m \u001b[49m\u001b[43mencoding\u001b[49m\u001b[38;5;241;43m=\u001b[39;49m\u001b[38;5;124;43m\"\u001b[39;49m\u001b[38;5;124;43mshift_jis\u001b[39;49m\u001b[38;5;124;43m\"\u001b[39;49m\u001b[43m)\u001b[49m \u001b[38;5;28;01mas\u001b[39;00m fin, \u001b[38;5;28mopen\u001b[39m(output_fn, mode\u001b[38;5;241m=\u001b[39m\u001b[38;5;124m\"\u001b[39m\u001b[38;5;124mw\u001b[39m\u001b[38;5;124m\"\u001b[39m) \u001b[38;5;28;01mas\u001b[39;00m fout:\n\u001b[0;32m      5\u001b[0m     \u001b[38;5;28;01mfor\u001b[39;00m line \u001b[38;5;129;01min\u001b[39;00m fin:\n\u001b[0;32m      6\u001b[0m         fout\u001b[38;5;241m.\u001b[39mwrite(re\u001b[38;5;241m.\u001b[39msub(\u001b[38;5;124mr\u001b[39m\u001b[38;5;124m\"\u001b[39m\u001b[38;5;124m《[^》]+》|［[^］]+］|〔[^〕]+〕| [｜]\u001b[39m\u001b[38;5;124m\"\u001b[39m, \u001b[38;5;124m\"\u001b[39m\u001b[38;5;124m\"\u001b[39m, line))\n",
      "File \u001b[1;32mc:\\Users\\tanri\\infovis\\.venv\\Lib\\site-packages\\IPython\\core\\interactiveshell.py:324\u001b[0m, in \u001b[0;36m_modified_open\u001b[1;34m(file, *args, **kwargs)\u001b[0m\n\u001b[0;32m    317\u001b[0m \u001b[38;5;28;01mif\u001b[39;00m file \u001b[38;5;129;01min\u001b[39;00m {\u001b[38;5;241m0\u001b[39m, \u001b[38;5;241m1\u001b[39m, \u001b[38;5;241m2\u001b[39m}:\n\u001b[0;32m    318\u001b[0m     \u001b[38;5;28;01mraise\u001b[39;00m \u001b[38;5;167;01mValueError\u001b[39;00m(\n\u001b[0;32m    319\u001b[0m         \u001b[38;5;124mf\u001b[39m\u001b[38;5;124m\"\u001b[39m\u001b[38;5;124mIPython won\u001b[39m\u001b[38;5;124m'\u001b[39m\u001b[38;5;124mt let you open fd=\u001b[39m\u001b[38;5;132;01m{\u001b[39;00mfile\u001b[38;5;132;01m}\u001b[39;00m\u001b[38;5;124m by default \u001b[39m\u001b[38;5;124m\"\u001b[39m\n\u001b[0;32m    320\u001b[0m         \u001b[38;5;124m\"\u001b[39m\u001b[38;5;124mas it is likely to crash IPython. If you know what you are doing, \u001b[39m\u001b[38;5;124m\"\u001b[39m\n\u001b[0;32m    321\u001b[0m         \u001b[38;5;124m\"\u001b[39m\u001b[38;5;124myou can use builtins\u001b[39m\u001b[38;5;124m'\u001b[39m\u001b[38;5;124m open.\u001b[39m\u001b[38;5;124m\"\u001b[39m\n\u001b[0;32m    322\u001b[0m     )\n\u001b[1;32m--> 324\u001b[0m \u001b[38;5;28;01mreturn\u001b[39;00m \u001b[43mio_open\u001b[49m\u001b[43m(\u001b[49m\u001b[43mfile\u001b[49m\u001b[43m,\u001b[49m\u001b[43m \u001b[49m\u001b[38;5;241;43m*\u001b[39;49m\u001b[43margs\u001b[49m\u001b[43m,\u001b[49m\u001b[43m \u001b[49m\u001b[38;5;241;43m*\u001b[39;49m\u001b[38;5;241;43m*\u001b[39;49m\u001b[43mkwargs\u001b[49m\u001b[43m)\u001b[49m\n",
      "\u001b[1;31mFileNotFoundError\u001b[0m: [Errno 2] No such file or directory: 'text/sorekara.txt'"
     ]
    }
   ],
   "source": [
    "input_fn = \"text/sorekara.txt\"\n",
    "output_fn = \"text/sorekara.stripruby.txt\"\n",
    "\n",
    "with open(input_fn, encoding=\"shift_jis\") as fin, open(output_fn, mode=\"w\") as fout:\n",
    "    for line in fin:\n",
    "        fout.write(re.sub(r\"《[^》]+》|［[^］]+］|〔[^〕]+〕| [｜]\", \"\", line))"
   ]
  },
  {
   "cell_type": "code",
   "execution_count": 4,
   "id": "8aa4a898",
   "metadata": {},
   "outputs": [],
   "source": [
    "input_fn = \"text/mon.txt\"\n",
    "output_fn = \"text/mon.stripruby.txt\"\n",
    "\n",
    "with open(input_fn, encoding=\"shift_jis\") as fin, open(output_fn, mode=\"w\") as fout:\n",
    "    for line in fin:\n",
    "        fout.write(re.sub(r\"《[^》]+》|［[^］]+］|〔[^〕]+〕| [｜]\", \"\", line))"
   ]
  },
  {
   "cell_type": "code",
   "execution_count": null,
   "id": "c8bfff10",
   "metadata": {},
   "outputs": [],
   "source": [
    "import sys\n",
    "\n",
    "# 冒頭と末尾の説明を取り除く（何行取り除くかは目視で確認）\n",
    "\n",
    "if sys.platform == \"darwin\":\n",
    "    !brew install coreutils\n",
    "    !tail -n +22 text/sanshiro.stripruby.txt | ghead -n -14 > text/sanshiro.corpus.txt\n",
    "else:\n",
    "    !tail -n +22 text/sanshiro.stripruby.txt | head -n -14 > text/sanshiro.corpus.txt"
   ]
  },
  {
   "cell_type": "code",
   "execution_count": null,
   "id": "ecadd9b1",
   "metadata": {},
   "outputs": [],
   "source": [
    "if sys.platform == \"darwin\":\n",
    "    !brew install coreutils\n",
    "    !tail -n +22 text/sorekara.stripruby.txt | ghead -n -14 > text/sorekara.corpus.txt\n",
    "else:\n",
    "    !tail -n +22 text/sorekara.stripruby.txt | head -n -14 > text/sorekara.corpus.txt"
   ]
  },
  {
   "cell_type": "code",
   "execution_count": null,
   "id": "5486ccee",
   "metadata": {},
   "outputs": [],
   "source": [
    "if sys.platform == \"darwin\":\n",
    "    !brew install coreutils\n",
    "    !tail -n +18 text/mon.stripruby.txt | ghead -n -14 > text/mon.corpus.txt\n",
    "else:\n",
    "    !tail -n +18 text/mon.stripruby.txt | head -n -14 > text/mon.corpus.txt"
   ]
  },
  {
   "cell_type": "code",
   "execution_count": 15,
   "id": "b7ef2963",
   "metadata": {},
   "outputs": [],
   "source": [
    "# 3つのファイルを統合する\n",
    "\n",
    "!cat text/sanshiro.corpus.txt text/sorekara.corpus.txt text/mon.corpus.txt > text/all.corpus.txt"
   ]
  },
  {
   "cell_type": "markdown",
   "id": "830bd4e0",
   "metadata": {},
   "source": [
    "これで、三作品をまとめて分析する準備ができました。\n",
    "\n",
    "演習の内容を参考にして、ワードクラウド、共起ネットワーク、共起ヒートマップを作ってみましょう。"
   ]
  },
  {
   "cell_type": "markdown",
   "id": "e985a215",
   "metadata": {},
   "source": [
    "## ワードクラウド"
   ]
  },
  {
   "cell_type": "code",
   "execution_count": 16,
   "id": "e6e0941c",
   "metadata": {},
   "outputs": [],
   "source": [
    "# your code goes here"
   ]
  },
  {
   "cell_type": "markdown",
   "id": "018a9cb3",
   "metadata": {},
   "source": [
    "## 共起ネットワーク"
   ]
  },
  {
   "cell_type": "code",
   "execution_count": 17,
   "id": "a6307261",
   "metadata": {},
   "outputs": [],
   "source": [
    "# your code goes here"
   ]
  },
  {
   "cell_type": "markdown",
   "id": "d7ac0ae4",
   "metadata": {},
   "source": [
    "## 共起ヒートマップ"
   ]
  },
  {
   "cell_type": "code",
   "execution_count": 18,
   "id": "f4ad17ad",
   "metadata": {},
   "outputs": [],
   "source": [
    "# your code goes here"
   ]
  }
 ],
 "metadata": {
  "kernelspec": {
   "display_name": ".venv",
   "language": "python",
   "name": "python3"
  },
  "language_info": {
   "codemirror_mode": {
    "name": "ipython",
    "version": 3
   },
   "file_extension": ".py",
   "mimetype": "text/x-python",
   "name": "python",
   "nbconvert_exporter": "python",
   "pygments_lexer": "ipython3",
   "version": "3.12.0"
  }
 },
 "nbformat": 4,
 "nbformat_minor": 5
}
