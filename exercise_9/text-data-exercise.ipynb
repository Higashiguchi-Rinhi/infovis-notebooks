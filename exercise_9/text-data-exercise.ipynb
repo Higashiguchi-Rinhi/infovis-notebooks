{
 "cells": [
  {
   "cell_type": "markdown",
   "id": "f3ef3f1e",
   "metadata": {},
   "source": [
    "# テキストデータの可視化の練習"
   ]
  },
  {
   "cell_type": "markdown",
   "id": "8261732d",
   "metadata": {},
   "source": [
    "『三四郎』は、夏目漱石の前記三部作と呼ばれる作品群の一部です。\n",
    "\n",
    "[『三四郎』](https://www.aozora.gr.jp/cards/000148/card794.html)（1909）・[『それから』](https://www.aozora.gr.jp/cards/000148/card1746.html)（1909）・[『門』](https://www.aozora.gr.jp/cards/000148/card785.html)（1910）の三部作を一つのコーパスとしてまとめて分析してみましょう。\n",
    "\n",
    "『三四郎』だけの分析と比べると、どのような特徴が出てくるでしょうか？"
   ]
  },
  {
   "cell_type": "markdown",
   "id": "e0a12dcf",
   "metadata": {},
   "source": [
    "## データの用意"
   ]
  },
  {
   "cell_type": "code",
   "execution_count": 14,
   "id": "eca56faa",
   "metadata": {},
   "outputs": [],
   "source": [
    "import shutil"
   ]
  },
  {
   "cell_type": "code",
   "execution_count": 18,
   "id": "0f4004e2",
   "metadata": {},
   "outputs": [
    {
     "name": "stderr",
     "output_type": "stream",
     "text": [
      "  % Total    % Received % Xferd  Average Speed   Time    Time     Time  Current\n",
      "                                 Dload  Upload   Total   Spent    Left  Speed\n",
      "\n",
      "  0     0    0     0    0     0      0      0 --:--:-- --:--:-- --:--:--     0\n",
      "100  154k  100  154k    0     0  1503k      0 --:--:-- --:--:-- --:--:-- 1597k\n",
      "  % Total    % Received % Xferd  Average Speed   Time    Time     Time  Current\n",
      "                                 Dload  Upload   Total   Spent    Left  Speed\n",
      "\n",
      "  0     0    0     0    0     0      0      0 --:--:-- --:--:-- --:--:--     0\n",
      "100  197k  100  197k    0     0   917k      0 --:--:-- --:--:-- --:--:--  940k\n",
      "  % Total    % Received % Xferd  Average Speed   Time    Time     Time  Current\n",
      "                                 Dload  Upload   Total   Spent    Left  Speed\n",
      "\n",
      "  0     0    0     0    0     0      0      0 --:--:-- --:--:-- --:--:--     0\n",
      "  0     0    0     0    0     0      0      0 --:--:-- --:--:-- --:--:--     0\n",
      "100  147k  100  147k    0     0  1638k      0 --:--:-- --:--:-- --:--:-- 1695k\n",
      "A subdirectory or file text already exists.\n",
      "'unzip' is not recognized as an internal or external command,\n",
      "operable program or batch file.\n",
      "'unzip' is not recognized as an internal or external command,\n",
      "operable program or batch file.\n",
      "'unzip' is not recognized as an internal or external command,\n",
      "operable program or batch file.\n"
     ]
    }
   ],
   "source": [
    "# ファイルをダウンロードする\n",
    "!curl -O https://www.aozora.gr.jp/cards/000148/files/794_ruby_4237.zip\n",
    "!curl -O https://www.aozora.gr.jp/cards/000148/files/1746_ruby_18324.zip\n",
    "!curl -O https://www.aozora.gr.jp/cards/000148/files/785_ruby_1656.zip\n",
    "# textフォルダ作る\n",
    "!mkdir text\n",
    "# ファイルをtextフォルダに解凍\n",
    "shutil.unpack_archive(\"794_ruby_4237.zip\", \"text\")\n",
    "shutil.unpack_archive(\"1746_ruby_18324.zip\", \"text\")\n",
    "shutil.unpack_archive(\"785_ruby_1656.zip\", \"text\")\n",
    "\n",
    "\n",
    "!unzip -d text -o 794_ruby_4237.zip\n",
    "!unzip -d text -o 1746_ruby_18324.zip\n",
    "!unzip -d text -o 785_ruby_1656.zip"
   ]
  },
  {
   "cell_type": "code",
   "execution_count": 19,
   "id": "c4512e6d",
   "metadata": {},
   "outputs": [],
   "source": [
    "# 青空文庫の記法を削除する\n",
    "\n",
    "import re\n",
    "\n",
    "input_fn = \"text/sanshiro.txt\"\n",
    "output_fn = \"text/sanshiro.stripruby.txt\"\n",
    "\n",
    "with open(input_fn, encoding=\"shift_jis\") as fin, open(output_fn, mode=\"w\",encoding=\"UTF-8\") as fout:\n",
    "    for line in fin:\n",
    "        fout.write(re.sub(r\"《[^》]+》|［[^］]+］|〔[^〕]+〕| [｜]\", \"\", line))"
   ]
  },
  {
   "cell_type": "code",
   "execution_count": 20,
   "id": "eb27b025",
   "metadata": {},
   "outputs": [],
   "source": [
    "input_fn = \"text/sorekara.txt\"\n",
    "output_fn = \"text/sorekara.stripruby.txt\"\n",
    "\n",
    "with open(input_fn, encoding=\"shift_jis\") as fin, open(output_fn, mode=\"w\",encoding=\"UTF-8\") as fout:\n",
    "    for line in fin:\n",
    "        fout.write(re.sub(r\"《[^》]+》|［[^］]+］|〔[^〕]+〕| [｜]\", \"\", line))"
   ]
  },
  {
   "cell_type": "code",
   "execution_count": 22,
   "id": "8aa4a898",
   "metadata": {},
   "outputs": [],
   "source": [
    "input_fn = \"text/mon.txt\"\n",
    "output_fn = \"text/mon.stripruby.txt\"\n",
    "\n",
    "with open(input_fn, encoding=\"shift_jis\") as fin, open(output_fn, mode=\"w\",encoding=\"UTF-8\") as fout:\n",
    "    for line in fin:\n",
    "        fout.write(re.sub(r\"《[^》]+》|［[^］]+］|〔[^〕]+〕| [｜]\", \"\", line))"
   ]
  },
  {
   "cell_type": "code",
   "execution_count": 23,
   "id": "c8bfff10",
   "metadata": {},
   "outputs": [
    {
     "name": "stderr",
     "output_type": "stream",
     "text": [
      "'tail' is not recognized as an internal or external command,\n",
      "operable program or batch file.\n"
     ]
    }
   ],
   "source": [
    "import sys\n",
    "\n",
    "# 冒頭と末尾の説明を取り除く（何行取り除くかは目視で確認）\n",
    "\n",
    "if sys.platform == \"darwin\":\n",
    "    !brew install coreutils\n",
    "    !tail -n +22 text/sanshiro.stripruby.txt | ghead -n -14 > text/sanshiro.corpus.txt\n",
    "else:\n",
    "    !tail -n +22 text/sanshiro.stripruby.txt | head -n -14 > text/sanshiro.corpus.txt"
   ]
  },
  {
   "cell_type": "code",
   "execution_count": 29,
   "id": "3f60464d",
   "metadata": {},
   "outputs": [],
   "source": [
    "def strip_file(input_file, output_file, skip_start, skip_end):\n",
    "    with open(input_file, 'r',encoding=\"UTF-8\") as infile:\n",
    "        lines = infile.readlines()\n",
    "    \n",
    "    # Keep lines excluding the first `skip_start` and the last `skip_end`\n",
    "    stripped_lines = lines[skip_start:-skip_end]\n",
    "    \n",
    "    with open(output_file, 'w',encoding=\"UTF-8\") as outfile:\n",
    "        outfile.writelines(stripped_lines)\n",
    "\n",
    "# Specify the parameters\n",
    "input_file = \"text/sanshiro.stripruby.txt\"\n",
    "output_file = \"text/sanshiro.corpus.txt\"\n",
    "skip_start = 21  # Lines to skip from the start\n",
    "skip_end = 14    # Lines to skip from the end\n",
    "strip_file(input_file, output_file, skip_start, skip_end)\n"
   ]
  },
  {
   "cell_type": "code",
   "execution_count": 24,
   "id": "ecadd9b1",
   "metadata": {},
   "outputs": [
    {
     "name": "stderr",
     "output_type": "stream",
     "text": [
      "'tail' is not recognized as an internal or external command,\n",
      "operable program or batch file.\n"
     ]
    }
   ],
   "source": [
    "if sys.platform == \"darwin\":\n",
    "    !brew install coreutils\n",
    "    !tail -n +22 text/sorekara.stripruby.txt | ghead -n -14 > text/sorekara.corpus.txt\n",
    "else:\n",
    "    !tail -n +22 text/sorekara.stripruby.txt | head -n -14 > text/sorekara.corpus.txt"
   ]
  },
  {
   "cell_type": "code",
   "execution_count": 30,
   "id": "ab6fdc6a",
   "metadata": {},
   "outputs": [],
   "source": [
    "input_file = \"text/sorekara.stripruby.txt\"\n",
    "output_file = \"text/sorekara.corpus.txt\"\n",
    "skip_start = 21  \n",
    "skip_end = 14    \n",
    "strip_file(input_file, output_file, skip_start, skip_end)\n"
   ]
  },
  {
   "cell_type": "code",
   "execution_count": 25,
   "id": "5486ccee",
   "metadata": {},
   "outputs": [
    {
     "name": "stderr",
     "output_type": "stream",
     "text": [
      "'tail' is not recognized as an internal or external command,\n",
      "operable program or batch file.\n"
     ]
    }
   ],
   "source": [
    "if sys.platform == \"darwin\":\n",
    "    !brew install coreutils\n",
    "    !tail -n +18 text/mon.stripruby.txt | ghead -n -14 > text/mon.corpus.txt\n",
    "else:\n",
    "    !tail -n +18 text/mon.stripruby.txt | head -n -14 > text/mon.corpus.txt"
   ]
  },
  {
   "cell_type": "code",
   "execution_count": 31,
   "id": "de6207ec",
   "metadata": {},
   "outputs": [],
   "source": [
    "input_file = \"text/mon.stripruby.txt\"\n",
    "output_file = \"text/mon.corpus.txt\"\n",
    "skip_start = 17  \n",
    "skip_end = 14   \n",
    "strip_file(input_file, output_file, skip_start, skip_end)\n"
   ]
  },
  {
   "cell_type": "code",
   "execution_count": 26,
   "id": "b7ef2963",
   "metadata": {},
   "outputs": [
    {
     "name": "stderr",
     "output_type": "stream",
     "text": [
      "'cat' is not recognized as an internal or external command,\n",
      "operable program or batch file.\n"
     ]
    }
   ],
   "source": [
    "# 3つのファイルを統合する\n",
    "\n",
    "!cat text/sanshiro.corpus.txt text/sorekara.corpus.txt text/mon.corpus.txt > text/all.corpus.txt"
   ]
  },
  {
   "cell_type": "code",
   "execution_count": 32,
   "id": "00d001db",
   "metadata": {},
   "outputs": [
    {
     "ename": "",
     "evalue": "",
     "output_type": "error",
     "traceback": [
      "\u001b[1;31mThe Kernel crashed while executing code in the current cell or a previous cell. \n",
      "\u001b[1;31mPlease review the code in the cell(s) to identify a possible cause of the failure. \n",
      "\u001b[1;31mClick <a href='https://aka.ms/vscodeJupyterKernelCrash'>here</a> for more info. \n",
      "\u001b[1;31mView Jupyter <a href='command:jupyter.viewOutput'>log</a> for further details."
     ]
    }
   ],
   "source": [
    "def merge_files(input_files, output_file, encoding=\"utf-8\"):\n",
    "    with open(output_file, 'w', encoding=encoding) as outfile:\n",
    "        for file in input_files:\n",
    "            with open(file, 'r', encoding=encoding) as infile:\n",
    "                outfile.writelines(infile.readlines())\n",
    "input_files = [\"text/sanshiro.corpus.txt\", \"text/sorekara.corpus.txt\", \"text/mon.corpus.txt\"]\n",
    "output_file = \"text/all.corpus.txt\"\n",
    "merge_files(input_files, output_file)"
   ]
  },
  {
   "cell_type": "markdown",
   "id": "830bd4e0",
   "metadata": {},
   "source": [
    "これで、三作品をまとめて分析する準備ができました。\n",
    "\n",
    "演習の内容を参考にして、ワードクラウド、共起ネットワーク、共起ヒートマップを作ってみましょう。"
   ]
  },
  {
   "cell_type": "markdown",
   "id": "e985a215",
   "metadata": {},
   "source": [
    "## ワードクラウド"
   ]
  },
  {
   "cell_type": "code",
   "execution_count": 16,
   "id": "e6e0941c",
   "metadata": {},
   "outputs": [],
   "source": [
    "# your code goes here"
   ]
  },
  {
   "cell_type": "markdown",
   "id": "018a9cb3",
   "metadata": {},
   "source": [
    "## 共起ネットワーク"
   ]
  },
  {
   "cell_type": "code",
   "execution_count": 17,
   "id": "a6307261",
   "metadata": {},
   "outputs": [],
   "source": [
    "# your code goes here"
   ]
  },
  {
   "cell_type": "markdown",
   "id": "d7ac0ae4",
   "metadata": {},
   "source": [
    "## 共起ヒートマップ"
   ]
  },
  {
   "cell_type": "code",
   "execution_count": 18,
   "id": "f4ad17ad",
   "metadata": {},
   "outputs": [],
   "source": [
    "# your code goes here"
   ]
  }
 ],
 "metadata": {
  "kernelspec": {
   "display_name": ".venv",
   "language": "python",
   "name": "python3"
  },
  "language_info": {
   "codemirror_mode": {
    "name": "ipython",
    "version": 3
   },
   "file_extension": ".py",
   "mimetype": "text/x-python",
   "name": "python",
   "nbconvert_exporter": "python",
   "pygments_lexer": "ipython3",
   "version": "3.10.5"
  }
 },
 "nbformat": 4,
 "nbformat_minor": 5
}
